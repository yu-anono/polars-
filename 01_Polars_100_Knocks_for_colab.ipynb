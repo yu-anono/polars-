{
  "cells": [
    {
      "cell_type": "markdown",
      "metadata": {
        "id": "view-in-github",
        "colab_type": "text"
      },
      "source": [
        "<a href=\"https://colab.research.google.com/github/yu-anono/polars-/blob/main/01_Polars_100_Knocks_for_colab.ipynb\" target=\"_parent\"><img src=\"https://colab.research.google.com/assets/colab-badge.svg\" alt=\"Open In Colab\"/></a>"
      ]
    },
    {
      "cell_type": "markdown",
      "metadata": {
        "id": "h3RtIEAhfZRg"
      },
      "source": [
        "# 初学者向けPolars100本ノックver1.0.1\n",
        "##### Shift + Enter で各セルのコードが実行されます\n",
        "・print(ans[ 問題番号 ]) で回答コード例を表示  \n",
        "\n",
        "・[Polars公式リファレンス](https://pola-rs.github.io/polars/py-polars/html/reference/index.html)  \n",
        "・[Polars公式ガイド](https://pola-rs.github.io/polars-book/user-guide/)  \n",
        "・[Github](https://github.com/pola-rs/polars)  \n",
        "\n",
        "・\"Data for Titanic passengers\" from [VANDERBILT UNIVERSITY](https://biostat.app.vumc.org/wiki/Main/DataSets)  \n",
        "  \n",
        "**本コンテンツ作成時のPolarsのバージョンは0.15.16**\n",
        "  \n",
        "作成日:2023年2月11日  \n",
        "最終更新日:2023年2月24日  \n",
        "再配布・改編不可  \n",
        "作成者：[kunishou](https://qiita.com/kunishou)\n",
        "<br>  \n",
        "**以下の手順で100本ノックに取り組むことでより習熟しやすくなります。**\n",
        "\n",
        "① 以下のPolarsに関する記事を一読する  \n",
        "[pandasから移行する人向け polars使用ガイド](https://qiita.com/nkay/items/9cfb2776156dc7e054c8)  \n",
        "② Polars100本ノックの解答表示版に軽く目を通す  \n",
        "③ Polars100本ノックに取り組む"
      ]
    },
    {
      "cell_type": "code",
      "execution_count": 1,
      "metadata": {
        "id": "1XkPS4sPfZRw",
        "colab": {
          "base_uri": "https://localhost:8080/"
        },
        "outputId": "6e40c977-8d3a-4ebd-9376-d8bfd564d2ef"
      },
      "outputs": [
        {
          "output_type": "stream",
          "name": "stdout",
          "text": [
            "Cloning into 'Polars_100_knocks'...\n",
            "remote: Enumerating objects: 327, done.\u001b[K\n",
            "remote: Counting objects: 100% (213/213), done.\u001b[K\n",
            "remote: Compressing objects: 100% (142/142), done.\u001b[K\n",
            "remote: Total 327 (delta 105), reused 152 (delta 71), pack-reused 114 (from 1)\u001b[K\n",
            "Receiving objects: 100% (327/327), 397.13 KiB | 2.61 MiB/s, done.\n",
            "Resolving deltas: 100% (132/132), done.\n",
            "/content/Polars_100_knocks/notebook\n",
            "Requirement already satisfied: polars==1.21.0 in /usr/local/lib/python3.11/dist-packages (1.21.0)\n",
            "\u001b[33mWARNING: Package(s) not found: pyarrow==10.0.1\u001b[0m\u001b[33m\n",
            "\u001b[0m[answer0]\n",
            "\n",
            "このように解答コード例がここに表示されます。\n",
            "各問題の解答コード例を表示するときはprintの前の\n",
            "#を消して実行して下さい。\n",
            "\n",
            "コード例をセル内にコピー&ペーストし\n",
            "実行すると、正解のデータが表示されます\n"
          ]
        }
      ],
      "source": [
        "# Shift + Enterで題材データ、回答コードを読み込んで下さい\n",
        "\n",
        "!git clone https://github.com/kunishou/Polars_100_knocks.git\n",
        "%cd Polars_100_knocks//notebook/\n",
        "\n",
        "!pip install polars==1.21.0\n",
        "!pip show pyarrow==10.0.1\n",
        "\n",
        "import pandas as pd\n",
        "import polars as pl\n",
        "import glob\n",
        "\n",
        "#題材データをdfに読み込み(タイタニック号の乗客データ、テストの点数データ 等)\n",
        "def initialize1():\n",
        "    df = pl.read_csv('../input/titanic3.csv')\n",
        "    return df\n",
        "\n",
        "def initialize2():\n",
        "    df = pl.read_csv('../input/data1.csv')\n",
        "    return df\n",
        "\n",
        "def initialize5():\n",
        "    df = pl.read_csv('../input/data2.csv')\n",
        "    return df\n",
        "\n",
        "df = initialize1()\n",
        "df2 = initialize2()\n",
        "df3 = pl.read_csv('../input/data1_2.csv')\n",
        "df4 = pl.read_csv('../input/data1_3.csv')\n",
        "df5 = pl.read_csv('../input/data2.csv')\n",
        "\n",
        "#回答コードをansリストに格納\n",
        "path = sorted(glob.glob('../input/a_' + '*.txt'))\n",
        "\n",
        "ans = []\n",
        "\n",
        "for _ in range(len(path)):\n",
        "    with open(path[_], 'r',encoding='utf-8') as f:\n",
        "        ans.append(f.read())\n",
        "\n",
        "print(ans[0])"
      ]
    },
    {
      "cell_type": "markdown",
      "metadata": {
        "id": "abDs65iUfZRz"
      },
      "source": [
        "# Pandas基礎 (1 - 14)"
      ]
    },
    {
      "cell_type": "code",
      "execution_count": 3,
      "metadata": {
        "id": "Uhp2J1iTfZR0",
        "colab": {
          "base_uri": "https://localhost:8080/",
          "height": 570
        },
        "outputId": "48a35695-d374-4aaf-ef15-1b6fff70299f"
      },
      "outputs": [
        {
          "output_type": "execute_result",
          "data": {
            "text/plain": [
              "shape: (5, 14)\n",
              "┌────────┬──────────┬────────────────────┬────────┬───┬──────────┬──────┬──────┬───────────────────┐\n",
              "│ pclass ┆ survived ┆ name               ┆ sex    ┆ … ┆ embarked ┆ boat ┆ body ┆ home.dest         │\n",
              "│ ---    ┆ ---      ┆ ---                ┆ ---    ┆   ┆ ---      ┆ ---  ┆ ---  ┆ ---               │\n",
              "│ i64    ┆ i64      ┆ str                ┆ str    ┆   ┆ str      ┆ str  ┆ i64  ┆ str               │\n",
              "╞════════╪══════════╪════════════════════╪════════╪═══╪══════════╪══════╪══════╪═══════════════════╡\n",
              "│ 1      ┆ 1        ┆ Allen, Miss.       ┆ female ┆ … ┆ S        ┆ 2    ┆ null ┆ St Louis, MO      │\n",
              "│        ┆          ┆ Elisabeth Walton   ┆        ┆   ┆          ┆      ┆      ┆                   │\n",
              "│ 1      ┆ 1        ┆ Allison, Master.   ┆ male   ┆ … ┆ S        ┆ 11   ┆ null ┆ Montreal, PQ /    │\n",
              "│        ┆          ┆ Hudson Trevor      ┆        ┆   ┆          ┆      ┆      ┆ Chesterville, O…  │\n",
              "│ 1      ┆ 0        ┆ Allison, Miss.     ┆ female ┆ … ┆ S        ┆ null ┆ null ┆ Montreal, PQ /    │\n",
              "│        ┆          ┆ Helen Loraine      ┆        ┆   ┆          ┆      ┆      ┆ Chesterville, O…  │\n",
              "│ 1      ┆ 0        ┆ Allison, Mr.       ┆ male   ┆ … ┆ S        ┆ null ┆ 135  ┆ Montreal, PQ /    │\n",
              "│        ┆          ┆ Hudson Joshua Cre… ┆        ┆   ┆          ┆      ┆      ┆ Chesterville, O…  │\n",
              "│ 1      ┆ 0        ┆ Allison, Mrs.      ┆ female ┆ … ┆ S        ┆ null ┆ null ┆ Montreal, PQ /    │\n",
              "│        ┆          ┆ Hudson J C (Bess…  ┆        ┆   ┆          ┆      ┆      ┆ Chesterville, O…  │\n",
              "└────────┴──────────┴────────────────────┴────────┴───┴──────────┴──────┴──────┴───────────────────┘"
            ],
            "text/html": [
              "<div><style>\n",
              ".dataframe > thead > tr,\n",
              ".dataframe > tbody > tr {\n",
              "  text-align: right;\n",
              "  white-space: pre-wrap;\n",
              "}\n",
              "</style>\n",
              "<small>shape: (5, 14)</small><table border=\"1\" class=\"dataframe\"><thead><tr><th>pclass</th><th>survived</th><th>name</th><th>sex</th><th>age</th><th>sibsp</th><th>parch</th><th>ticket</th><th>fare</th><th>cabin</th><th>embarked</th><th>boat</th><th>body</th><th>home.dest</th></tr><tr><td>i64</td><td>i64</td><td>str</td><td>str</td><td>f64</td><td>i64</td><td>i64</td><td>str</td><td>f64</td><td>str</td><td>str</td><td>str</td><td>i64</td><td>str</td></tr></thead><tbody><tr><td>1</td><td>1</td><td>&quot;Allen, Miss. Elisabeth Walton&quot;</td><td>&quot;female&quot;</td><td>29.0</td><td>0</td><td>0</td><td>&quot;24160&quot;</td><td>211.3375</td><td>&quot;B5&quot;</td><td>&quot;S&quot;</td><td>&quot;2&quot;</td><td>null</td><td>&quot;St Louis, MO&quot;</td></tr><tr><td>1</td><td>1</td><td>&quot;Allison, Master. Hudson Trevor&quot;</td><td>&quot;male&quot;</td><td>0.92</td><td>1</td><td>2</td><td>&quot;113781&quot;</td><td>151.55</td><td>&quot;C22 C26&quot;</td><td>&quot;S&quot;</td><td>&quot;11&quot;</td><td>null</td><td>&quot;Montreal, PQ / Chesterville, O…</td></tr><tr><td>1</td><td>0</td><td>&quot;Allison, Miss. Helen Loraine&quot;</td><td>&quot;female&quot;</td><td>2.0</td><td>1</td><td>2</td><td>&quot;113781&quot;</td><td>151.55</td><td>&quot;C22 C26&quot;</td><td>&quot;S&quot;</td><td>null</td><td>null</td><td>&quot;Montreal, PQ / Chesterville, O…</td></tr><tr><td>1</td><td>0</td><td>&quot;Allison, Mr. Hudson Joshua Cre…</td><td>&quot;male&quot;</td><td>30.0</td><td>1</td><td>2</td><td>&quot;113781&quot;</td><td>151.55</td><td>&quot;C22 C26&quot;</td><td>&quot;S&quot;</td><td>null</td><td>135</td><td>&quot;Montreal, PQ / Chesterville, O…</td></tr><tr><td>1</td><td>0</td><td>&quot;Allison, Mrs. Hudson J C (Bess…</td><td>&quot;female&quot;</td><td>25.0</td><td>1</td><td>2</td><td>&quot;113781&quot;</td><td>151.55</td><td>&quot;C22 C26&quot;</td><td>&quot;S&quot;</td><td>null</td><td>null</td><td>&quot;Montreal, PQ / Chesterville, O…</td></tr></tbody></table></div>"
            ]
          },
          "metadata": {},
          "execution_count": 3
        }
      ],
      "source": [
        "# 【1】\n",
        "# dfに読み込んだデータの最初の5行を表示\n",
        "# print(ans[1]) #解答表示\n",
        "df = initialize1() #初期化\n",
        "\n",
        "\n",
        "\n",
        "df.head()"
      ]
    },
    {
      "cell_type": "code",
      "execution_count": 5,
      "metadata": {
        "id": "iPsTuOzwfZR1",
        "colab": {
          "base_uri": "https://localhost:8080/"
        },
        "outputId": "066b4645-373a-4096-cb11-0a59f4e10765"
      },
      "outputs": [
        {
          "output_type": "stream",
          "name": "stdout",
          "text": [
            "Rows: 1309\n",
            "Columns: 14\n",
            "$ pclass    <i64> 1, 1, 1, 1, 1, 1, 1, 1, 1, 1\n",
            "$ survived  <i64> 1, 1, 0, 0, 0, 1, 1, 0, 1, 0\n",
            "$ name      <str> 'Allen, Miss. Elisabeth Walton', 'Allison, Master. Hudson Trevor', 'Allison, Miss. Helen Loraine', 'Allison, Mr. Hudson Joshua Creighton', 'Allison, Mrs. Hudson J C (Bessie Waldo Daniels)', 'Anderson, Mr. Harry', 'Andrews, Miss. Kornelia Theodosia', 'Andrews, Mr. Thomas Jr', 'Appleton, Mrs. Edward Dale (Charlotte Lamson)', 'Artagaveytia, Mr. Ramon'\n",
            "$ sex       <str> 'female', 'male', 'female', 'male', 'female', 'male', 'female', 'male', 'female', 'male'\n",
            "$ age       <f64> 29.0, 0.92, 2.0, 30.0, 25.0, 48.0, 63.0, 39.0, 53.0, 71.0\n",
            "$ sibsp     <i64> 0, 1, 1, 1, 1, 0, 1, 0, 2, 0\n",
            "$ parch     <i64> 0, 2, 2, 2, 2, 0, 0, 0, 0, 0\n",
            "$ ticket    <str> '24160', '113781', '113781', '113781', '113781', '19952', '13502', '112050', '11769', 'PC 17609'\n",
            "$ fare      <f64> 211.3375, 151.55, 151.55, 151.55, 151.55, 26.55, 77.9583, 0.0, 51.4792, 49.5042\n",
            "$ cabin     <str> 'B5', 'C22 C26', 'C22 C26', 'C22 C26', 'C22 C26', 'E12', 'D7', 'A36', 'C101', None\n",
            "$ embarked  <str> 'S', 'S', 'S', 'S', 'S', 'S', 'S', 'S', 'S', 'C'\n",
            "$ boat      <str> '2', '11', None, None, None, '3', '10', None, 'D', None\n",
            "$ body      <i64> None, None, None, 135, None, None, None, None, None, 22\n",
            "$ home.dest <str> 'St Louis, MO', 'Montreal, PQ / Chesterville, ON', 'Montreal, PQ / Chesterville, ON', 'Montreal, PQ / Chesterville, ON', 'Montreal, PQ / Chesterville, ON', 'New York, NY', 'Hudson, NY', 'Belfast, NI', 'Bayside, Queens, NY', 'Montevideo, Uruguay'\n",
            "\n",
            "None\n"
          ]
        }
      ],
      "source": [
        "# 【2】\n",
        "# glimpseを用いてdfに読み込んだデータの最初の要素10個を表示\n",
        "# print(ans[2]) #解答表示\n",
        "df = initialize1() #初期化\n",
        "\n",
        "\n",
        "\n",
        "print(df.glimpse())"
      ]
    },
    {
      "cell_type": "code",
      "execution_count": 6,
      "metadata": {
        "id": "JQ0UQ6r4fZR2",
        "colab": {
          "base_uri": "https://localhost:8080/",
          "height": 396
        },
        "outputId": "e8c16430-5082-467e-e4e6-ba321a95f915"
      },
      "outputs": [
        {
          "output_type": "execute_result",
          "data": {
            "text/plain": [
              "shape: (5, 14)\n",
              "┌────────┬──────────┬───────────────────────────┬────────┬───┬──────────┬──────┬──────┬───────────┐\n",
              "│ pclass ┆ survived ┆ name                      ┆ sex    ┆ … ┆ embarked ┆ boat ┆ body ┆ home.dest │\n",
              "│ ---    ┆ ---      ┆ ---                       ┆ ---    ┆   ┆ ---      ┆ ---  ┆ ---  ┆ ---       │\n",
              "│ i64    ┆ i64      ┆ str                       ┆ str    ┆   ┆ str      ┆ str  ┆ i64  ┆ str       │\n",
              "╞════════╪══════════╪═══════════════════════════╪════════╪═══╪══════════╪══════╪══════╪═══════════╡\n",
              "│ 3      ┆ 0        ┆ Zabour, Miss. Hileni      ┆ female ┆ … ┆ C        ┆ null ┆ 328  ┆ null      │\n",
              "│ 3      ┆ 0        ┆ Zabour, Miss. Thamine     ┆ female ┆ … ┆ C        ┆ null ┆ null ┆ null      │\n",
              "│ 3      ┆ 0        ┆ Zakarian, Mr. Mapriededer ┆ male   ┆ … ┆ C        ┆ null ┆ 304  ┆ null      │\n",
              "│ 3      ┆ 0        ┆ Zakarian, Mr. Ortin       ┆ male   ┆ … ┆ C        ┆ null ┆ null ┆ null      │\n",
              "│ 3      ┆ 0        ┆ Zimmerman, Mr. Leo        ┆ male   ┆ … ┆ S        ┆ null ┆ null ┆ null      │\n",
              "└────────┴──────────┴───────────────────────────┴────────┴───┴──────────┴──────┴──────┴───────────┘"
            ],
            "text/html": [
              "<div><style>\n",
              ".dataframe > thead > tr,\n",
              ".dataframe > tbody > tr {\n",
              "  text-align: right;\n",
              "  white-space: pre-wrap;\n",
              "}\n",
              "</style>\n",
              "<small>shape: (5, 14)</small><table border=\"1\" class=\"dataframe\"><thead><tr><th>pclass</th><th>survived</th><th>name</th><th>sex</th><th>age</th><th>sibsp</th><th>parch</th><th>ticket</th><th>fare</th><th>cabin</th><th>embarked</th><th>boat</th><th>body</th><th>home.dest</th></tr><tr><td>i64</td><td>i64</td><td>str</td><td>str</td><td>f64</td><td>i64</td><td>i64</td><td>str</td><td>f64</td><td>str</td><td>str</td><td>str</td><td>i64</td><td>str</td></tr></thead><tbody><tr><td>3</td><td>0</td><td>&quot;Zabour, Miss. Hileni&quot;</td><td>&quot;female&quot;</td><td>14.5</td><td>1</td><td>0</td><td>&quot;2665&quot;</td><td>14.4542</td><td>null</td><td>&quot;C&quot;</td><td>null</td><td>328</td><td>null</td></tr><tr><td>3</td><td>0</td><td>&quot;Zabour, Miss. Thamine&quot;</td><td>&quot;female&quot;</td><td>null</td><td>1</td><td>0</td><td>&quot;2665&quot;</td><td>14.4542</td><td>null</td><td>&quot;C&quot;</td><td>null</td><td>null</td><td>null</td></tr><tr><td>3</td><td>0</td><td>&quot;Zakarian, Mr. Mapriededer&quot;</td><td>&quot;male&quot;</td><td>26.5</td><td>0</td><td>0</td><td>&quot;2656&quot;</td><td>7.225</td><td>null</td><td>&quot;C&quot;</td><td>null</td><td>304</td><td>null</td></tr><tr><td>3</td><td>0</td><td>&quot;Zakarian, Mr. Ortin&quot;</td><td>&quot;male&quot;</td><td>27.0</td><td>0</td><td>0</td><td>&quot;2670&quot;</td><td>7.225</td><td>null</td><td>&quot;C&quot;</td><td>null</td><td>null</td><td>null</td></tr><tr><td>3</td><td>0</td><td>&quot;Zimmerman, Mr. Leo&quot;</td><td>&quot;male&quot;</td><td>29.0</td><td>0</td><td>0</td><td>&quot;315082&quot;</td><td>7.875</td><td>null</td><td>&quot;S&quot;</td><td>null</td><td>null</td><td>null</td></tr></tbody></table></div>"
            ]
          },
          "metadata": {},
          "execution_count": 6
        }
      ],
      "source": [
        "# 【3】\n",
        "# dfに読み込んだデータの最後の5行を表示\n",
        "#print(ans[3]) #解答表示\n",
        "df = initialize1() #初期化\n",
        "\n",
        "\n",
        "\n",
        "df.tail()"
      ]
    },
    {
      "cell_type": "code",
      "execution_count": 7,
      "metadata": {
        "id": "LvTWKor4fZR3",
        "colab": {
          "base_uri": "https://localhost:8080/"
        },
        "outputId": "b0595917-da55-4aa7-b470-880d24836f2d"
      },
      "outputs": [
        {
          "output_type": "execute_result",
          "data": {
            "text/plain": [
              "(1309, 14)"
            ]
          },
          "metadata": {},
          "execution_count": 7
        }
      ],
      "source": [
        "# 【4】\n",
        "# dfのDataFrameサイズを確認\n",
        "#print(ans[4]) #解答表示\n",
        "df = initialize1() #初期化\n",
        "\n",
        "\n",
        "\n",
        "df.shape"
      ]
    },
    {
      "cell_type": "code",
      "execution_count": 8,
      "metadata": {
        "id": "-KaXc1wcfZR8",
        "colab": {
          "base_uri": "https://localhost:8080/",
          "height": 255
        },
        "outputId": "0437d830-ac12-4b51-f0b8-25db51dae38c"
      },
      "outputs": [
        {
          "output_type": "execute_result",
          "data": {
            "text/plain": [
              "shape: (5, 5)\n",
              "┌──────┬───────┬─────────┬─────────────┬─────────┐\n",
              "│ name ┆ class ┆ English ┆ Mathematics ┆ History │\n",
              "│ ---  ┆ ---   ┆ ---     ┆ ---         ┆ ---     │\n",
              "│ str  ┆ i64   ┆ i64     ┆ i64         ┆ i64     │\n",
              "╞══════╪═══════╪═════════╪═════════════╪═════════╡\n",
              "│ A    ┆ 1     ┆ 80      ┆ 55          ┆ 65      │\n",
              "│ B    ┆ 1     ┆ 55      ┆ 100         ┆ 83      │\n",
              "│ C    ┆ 2     ┆ 65      ┆ 70          ┆ 95      │\n",
              "│ D    ┆ 1     ┆ 40      ┆ 63          ┆ 70      │\n",
              "│ E    ┆ 2     ┆ 76      ┆ 82          ┆ 79      │\n",
              "└──────┴───────┴─────────┴─────────────┴─────────┘"
            ],
            "text/html": [
              "<div><style>\n",
              ".dataframe > thead > tr,\n",
              ".dataframe > tbody > tr {\n",
              "  text-align: right;\n",
              "  white-space: pre-wrap;\n",
              "}\n",
              "</style>\n",
              "<small>shape: (5, 5)</small><table border=\"1\" class=\"dataframe\"><thead><tr><th>name</th><th>class</th><th>English</th><th>Mathematics</th><th>History</th></tr><tr><td>str</td><td>i64</td><td>i64</td><td>i64</td><td>i64</td></tr></thead><tbody><tr><td>&quot;A&quot;</td><td>1</td><td>80</td><td>55</td><td>65</td></tr><tr><td>&quot;B&quot;</td><td>1</td><td>55</td><td>100</td><td>83</td></tr><tr><td>&quot;C&quot;</td><td>2</td><td>65</td><td>70</td><td>95</td></tr><tr><td>&quot;D&quot;</td><td>1</td><td>40</td><td>63</td><td>70</td></tr><tr><td>&quot;E&quot;</td><td>2</td><td>76</td><td>82</td><td>79</td></tr></tbody></table></div>"
            ]
          },
          "metadata": {},
          "execution_count": 8
        }
      ],
      "source": [
        "# 【5】\n",
        "# inputフォルダ内のdata1.csvファイルを\n",
        "# 読み込みdf2に格納して、最初の5行を表示\n",
        "#print(ans[5]) #解答表示\n",
        "df2 = initialize2() #初期化\n",
        "\n",
        "\n",
        "\n",
        "df2 = pl.read_csv('../input/data1.csv')\n",
        "df2.head()"
      ]
    },
    {
      "cell_type": "code",
      "execution_count": 9,
      "metadata": {
        "id": "keFDyovTfZR9",
        "colab": {
          "base_uri": "https://localhost:8080/",
          "height": 914
        },
        "outputId": "65eeda0d-78a6-4fbe-baaf-9acedfbc9e37"
      },
      "outputs": [
        {
          "output_type": "execute_result",
          "data": {
            "text/plain": [
              "shape: (1_309, 14)\n",
              "┌────────┬──────────┬────────────────────┬────────┬───┬──────────┬──────┬──────┬───────────────────┐\n",
              "│ pclass ┆ survived ┆ name               ┆ sex    ┆ … ┆ embarked ┆ boat ┆ body ┆ home.dest         │\n",
              "│ ---    ┆ ---      ┆ ---                ┆ ---    ┆   ┆ ---      ┆ ---  ┆ ---  ┆ ---               │\n",
              "│ i64    ┆ i64      ┆ str                ┆ str    ┆   ┆ str      ┆ str  ┆ i64  ┆ str               │\n",
              "╞════════╪══════════╪════════════════════╪════════╪═══╪══════════╪══════╪══════╪═══════════════════╡\n",
              "│ 3      ┆ 0        ┆ Storey, Mr. Thomas ┆ male   ┆ … ┆ S        ┆ null ┆ 261  ┆ null              │\n",
              "│ 1      ┆ 0        ┆ Andrews, Mr.       ┆ male   ┆ … ┆ S        ┆ null ┆ null ┆ Belfast, NI       │\n",
              "│        ┆          ┆ Thomas Jr          ┆        ┆   ┆          ┆      ┆      ┆                   │\n",
              "│ 1      ┆ 0        ┆ Chisholm, Mr.      ┆ male   ┆ … ┆ S        ┆ null ┆ null ┆ Liverpool,        │\n",
              "│        ┆          ┆ Roderick Robert …  ┆        ┆   ┆          ┆      ┆      ┆ England / Belfast │\n",
              "│ 1      ┆ 0        ┆ Fry, Mr. Richard   ┆ male   ┆ … ┆ S        ┆ null ┆ null ┆ null              │\n",
              "│ 1      ┆ 0        ┆ Harrison, Mr.      ┆ male   ┆ … ┆ S        ┆ null ┆ 110  ┆ null              │\n",
              "│        ┆          ┆ William            ┆        ┆   ┆          ┆      ┆      ┆                   │\n",
              "│ …      ┆ …        ┆ …                  ┆ …      ┆ … ┆ …        ┆ …    ┆ …    ┆ …                 │\n",
              "│ 1      ┆ 1        ┆ Fortune, Mrs. Mark ┆ female ┆ … ┆ S        ┆ 10   ┆ null ┆ Winnipeg, MB      │\n",
              "│        ┆          ┆ (Mary McDou…       ┆        ┆   ┆          ┆      ┆      ┆                   │\n",
              "│ 1      ┆ 1        ┆ Cardeza, Mr.       ┆ male   ┆ … ┆ C        ┆ 3    ┆ null ┆ Austria-Hungary / │\n",
              "│        ┆          ┆ Thomas Drake Mart… ┆        ┆   ┆          ┆      ┆      ┆ Germantown, …     │\n",
              "│ 1      ┆ 1        ┆ Cardeza, Mrs.      ┆ female ┆ … ┆ C        ┆ 3    ┆ null ┆ Germantown,       │\n",
              "│        ┆          ┆ James Warburton …  ┆        ┆   ┆          ┆      ┆      ┆ Philadelphia, PA  │\n",
              "│ 1      ┆ 1        ┆ Lesurer, Mr.       ┆ male   ┆ … ┆ C        ┆ 3    ┆ null ┆ null              │\n",
              "│        ┆          ┆ Gustave J          ┆        ┆   ┆          ┆      ┆      ┆                   │\n",
              "│ 1      ┆ 1        ┆ Ward, Miss. Anna   ┆ female ┆ … ┆ C        ┆ 3    ┆ null ┆ null              │\n",
              "└────────┴──────────┴────────────────────┴────────┴───┴──────────┴──────┴──────┴───────────────────┘"
            ],
            "text/html": [
              "<div><style>\n",
              ".dataframe > thead > tr,\n",
              ".dataframe > tbody > tr {\n",
              "  text-align: right;\n",
              "  white-space: pre-wrap;\n",
              "}\n",
              "</style>\n",
              "<small>shape: (1_309, 14)</small><table border=\"1\" class=\"dataframe\"><thead><tr><th>pclass</th><th>survived</th><th>name</th><th>sex</th><th>age</th><th>sibsp</th><th>parch</th><th>ticket</th><th>fare</th><th>cabin</th><th>embarked</th><th>boat</th><th>body</th><th>home.dest</th></tr><tr><td>i64</td><td>i64</td><td>str</td><td>str</td><td>f64</td><td>i64</td><td>i64</td><td>str</td><td>f64</td><td>str</td><td>str</td><td>str</td><td>i64</td><td>str</td></tr></thead><tbody><tr><td>3</td><td>0</td><td>&quot;Storey, Mr. Thomas&quot;</td><td>&quot;male&quot;</td><td>60.5</td><td>0</td><td>0</td><td>&quot;3701&quot;</td><td>null</td><td>null</td><td>&quot;S&quot;</td><td>null</td><td>261</td><td>null</td></tr><tr><td>1</td><td>0</td><td>&quot;Andrews, Mr. Thomas Jr&quot;</td><td>&quot;male&quot;</td><td>39.0</td><td>0</td><td>0</td><td>&quot;112050&quot;</td><td>0.0</td><td>&quot;A36&quot;</td><td>&quot;S&quot;</td><td>null</td><td>null</td><td>&quot;Belfast, NI&quot;</td></tr><tr><td>1</td><td>0</td><td>&quot;Chisholm, Mr. Roderick Robert …</td><td>&quot;male&quot;</td><td>null</td><td>0</td><td>0</td><td>&quot;112051&quot;</td><td>0.0</td><td>null</td><td>&quot;S&quot;</td><td>null</td><td>null</td><td>&quot;Liverpool, England / Belfast&quot;</td></tr><tr><td>1</td><td>0</td><td>&quot;Fry, Mr. Richard&quot;</td><td>&quot;male&quot;</td><td>null</td><td>0</td><td>0</td><td>&quot;112058&quot;</td><td>0.0</td><td>&quot;B102&quot;</td><td>&quot;S&quot;</td><td>null</td><td>null</td><td>null</td></tr><tr><td>1</td><td>0</td><td>&quot;Harrison, Mr. William&quot;</td><td>&quot;male&quot;</td><td>40.0</td><td>0</td><td>0</td><td>&quot;112059&quot;</td><td>0.0</td><td>&quot;B94&quot;</td><td>&quot;S&quot;</td><td>null</td><td>110</td><td>null</td></tr><tr><td>&hellip;</td><td>&hellip;</td><td>&hellip;</td><td>&hellip;</td><td>&hellip;</td><td>&hellip;</td><td>&hellip;</td><td>&hellip;</td><td>&hellip;</td><td>&hellip;</td><td>&hellip;</td><td>&hellip;</td><td>&hellip;</td><td>&hellip;</td></tr><tr><td>1</td><td>1</td><td>&quot;Fortune, Mrs. Mark (Mary McDou…</td><td>&quot;female&quot;</td><td>60.0</td><td>1</td><td>4</td><td>&quot;19950&quot;</td><td>263.0</td><td>&quot;C23 C25 C27&quot;</td><td>&quot;S&quot;</td><td>&quot;10&quot;</td><td>null</td><td>&quot;Winnipeg, MB&quot;</td></tr><tr><td>1</td><td>1</td><td>&quot;Cardeza, Mr. Thomas Drake Mart…</td><td>&quot;male&quot;</td><td>36.0</td><td>0</td><td>1</td><td>&quot;PC 17755&quot;</td><td>512.3292</td><td>&quot;B51 B53 B55&quot;</td><td>&quot;C&quot;</td><td>&quot;3&quot;</td><td>null</td><td>&quot;Austria-Hungary / Germantown, …</td></tr><tr><td>1</td><td>1</td><td>&quot;Cardeza, Mrs. James Warburton …</td><td>&quot;female&quot;</td><td>58.0</td><td>0</td><td>1</td><td>&quot;PC 17755&quot;</td><td>512.3292</td><td>&quot;B51 B53 B55&quot;</td><td>&quot;C&quot;</td><td>&quot;3&quot;</td><td>null</td><td>&quot;Germantown, Philadelphia, PA&quot;</td></tr><tr><td>1</td><td>1</td><td>&quot;Lesurer, Mr. Gustave J&quot;</td><td>&quot;male&quot;</td><td>35.0</td><td>0</td><td>0</td><td>&quot;PC 17755&quot;</td><td>512.3292</td><td>&quot;B101&quot;</td><td>&quot;C&quot;</td><td>&quot;3&quot;</td><td>null</td><td>null</td></tr><tr><td>1</td><td>1</td><td>&quot;Ward, Miss. Anna&quot;</td><td>&quot;female&quot;</td><td>35.0</td><td>0</td><td>0</td><td>&quot;PC 17755&quot;</td><td>512.3292</td><td>null</td><td>&quot;C&quot;</td><td>&quot;3&quot;</td><td>null</td><td>null</td></tr></tbody></table></div>"
            ]
          },
          "metadata": {},
          "execution_count": 9
        }
      ],
      "source": [
        "# 【6】\n",
        "# dfのfareの列で昇順に並び替えて表示\n",
        "#print(ans[6]) #解答表示\n",
        "df = initialize1() #初期化\n",
        "\n",
        "\n",
        "\n",
        "df.sort('fare')"
      ]
    },
    {
      "cell_type": "code",
      "execution_count": 10,
      "metadata": {
        "id": "f0KtodxcfZR-",
        "colab": {
          "base_uri": "https://localhost:8080/",
          "height": 570
        },
        "outputId": "fa12c0dd-877a-46b0-cc88-b210242aa1fa"
      },
      "outputs": [
        {
          "output_type": "execute_result",
          "data": {
            "text/plain": [
              "shape: (5, 14)\n",
              "┌────────┬──────────┬────────────────────┬────────┬───┬──────────┬──────┬──────┬───────────────────┐\n",
              "│ pclass ┆ survived ┆ name               ┆ sex    ┆ … ┆ embarked ┆ boat ┆ body ┆ home.dest         │\n",
              "│ ---    ┆ ---      ┆ ---                ┆ ---    ┆   ┆ ---      ┆ ---  ┆ ---  ┆ ---               │\n",
              "│ i64    ┆ i64      ┆ str                ┆ str    ┆   ┆ str      ┆ str  ┆ i64  ┆ str               │\n",
              "╞════════╪══════════╪════════════════════╪════════╪═══╪══════════╪══════╪══════╪═══════════════════╡\n",
              "│ 1      ┆ 1        ┆ Allen, Miss.       ┆ female ┆ … ┆ S        ┆ 2    ┆ null ┆ St Louis, MO      │\n",
              "│        ┆          ┆ Elisabeth Walton   ┆        ┆   ┆          ┆      ┆      ┆                   │\n",
              "│ 1      ┆ 1        ┆ Allison, Master.   ┆ male   ┆ … ┆ S        ┆ 11   ┆ null ┆ Montreal, PQ /    │\n",
              "│        ┆          ┆ Hudson Trevor      ┆        ┆   ┆          ┆      ┆      ┆ Chesterville, O…  │\n",
              "│ 1      ┆ 0        ┆ Allison, Miss.     ┆ female ┆ … ┆ S        ┆ null ┆ null ┆ Montreal, PQ /    │\n",
              "│        ┆          ┆ Helen Loraine      ┆        ┆   ┆          ┆      ┆      ┆ Chesterville, O…  │\n",
              "│ 1      ┆ 0        ┆ Allison, Mr.       ┆ male   ┆ … ┆ S        ┆ null ┆ 135  ┆ Montreal, PQ /    │\n",
              "│        ┆          ┆ Hudson Joshua Cre… ┆        ┆   ┆          ┆      ┆      ┆ Chesterville, O…  │\n",
              "│ 1      ┆ 0        ┆ Allison, Mrs.      ┆ female ┆ … ┆ S        ┆ null ┆ null ┆ Montreal, PQ /    │\n",
              "│        ┆          ┆ Hudson J C (Bess…  ┆        ┆   ┆          ┆      ┆      ┆ Chesterville, O…  │\n",
              "└────────┴──────────┴────────────────────┴────────┴───┴──────────┴──────┴──────┴───────────────────┘"
            ],
            "text/html": [
              "<div><style>\n",
              ".dataframe > thead > tr,\n",
              ".dataframe > tbody > tr {\n",
              "  text-align: right;\n",
              "  white-space: pre-wrap;\n",
              "}\n",
              "</style>\n",
              "<small>shape: (5, 14)</small><table border=\"1\" class=\"dataframe\"><thead><tr><th>pclass</th><th>survived</th><th>name</th><th>sex</th><th>age</th><th>sibsp</th><th>parch</th><th>ticket</th><th>fare</th><th>cabin</th><th>embarked</th><th>boat</th><th>body</th><th>home.dest</th></tr><tr><td>i64</td><td>i64</td><td>str</td><td>str</td><td>f64</td><td>i64</td><td>i64</td><td>str</td><td>f64</td><td>str</td><td>str</td><td>str</td><td>i64</td><td>str</td></tr></thead><tbody><tr><td>1</td><td>1</td><td>&quot;Allen, Miss. Elisabeth Walton&quot;</td><td>&quot;female&quot;</td><td>29.0</td><td>0</td><td>0</td><td>&quot;24160&quot;</td><td>211.3375</td><td>&quot;B5&quot;</td><td>&quot;S&quot;</td><td>&quot;2&quot;</td><td>null</td><td>&quot;St Louis, MO&quot;</td></tr><tr><td>1</td><td>1</td><td>&quot;Allison, Master. Hudson Trevor&quot;</td><td>&quot;male&quot;</td><td>0.92</td><td>1</td><td>2</td><td>&quot;113781&quot;</td><td>151.55</td><td>&quot;C22 C26&quot;</td><td>&quot;S&quot;</td><td>&quot;11&quot;</td><td>null</td><td>&quot;Montreal, PQ / Chesterville, O…</td></tr><tr><td>1</td><td>0</td><td>&quot;Allison, Miss. Helen Loraine&quot;</td><td>&quot;female&quot;</td><td>2.0</td><td>1</td><td>2</td><td>&quot;113781&quot;</td><td>151.55</td><td>&quot;C22 C26&quot;</td><td>&quot;S&quot;</td><td>null</td><td>null</td><td>&quot;Montreal, PQ / Chesterville, O…</td></tr><tr><td>1</td><td>0</td><td>&quot;Allison, Mr. Hudson Joshua Cre…</td><td>&quot;male&quot;</td><td>30.0</td><td>1</td><td>2</td><td>&quot;113781&quot;</td><td>151.55</td><td>&quot;C22 C26&quot;</td><td>&quot;S&quot;</td><td>null</td><td>135</td><td>&quot;Montreal, PQ / Chesterville, O…</td></tr><tr><td>1</td><td>0</td><td>&quot;Allison, Mrs. Hudson J C (Bess…</td><td>&quot;female&quot;</td><td>25.0</td><td>1</td><td>2</td><td>&quot;113781&quot;</td><td>151.55</td><td>&quot;C22 C26&quot;</td><td>&quot;S&quot;</td><td>null</td><td>null</td><td>&quot;Montreal, PQ / Chesterville, O…</td></tr></tbody></table></div>"
            ]
          },
          "metadata": {},
          "execution_count": 10
        }
      ],
      "source": [
        "# 【7】\n",
        "# df_copyにdfをコピーして、最初の5行を表示\n",
        "#print(ans[7]) #解答表示\n",
        "df = initialize1() #初期化\n",
        "\n",
        "\n",
        "\n",
        "df_copy = df.clone()\n",
        "df_copy.head()"
      ]
    },
    {
      "cell_type": "code",
      "execution_count": 11,
      "metadata": {
        "id": "8yC9gicofZSA",
        "colab": {
          "base_uri": "https://localhost:8080/"
        },
        "outputId": "61492bce-11e4-4a35-f797-aad422b405b7"
      },
      "outputs": [
        {
          "output_type": "stream",
          "name": "stdout",
          "text": [
            "Schema([('pclass', Int64), ('survived', Int64), ('name', String), ('sex', String), ('age', Float64), ('sibsp', Int64), ('parch', Int64), ('ticket', String), ('fare', Float64), ('cabin', String), ('embarked', String), ('boat', String), ('body', Int64), ('home.dest', String)])\n",
            "Schema([('cabin', String)])\n"
          ]
        }
      ],
      "source": [
        "# 【8】\n",
        "# ① dfの各列のデータ型を確認\n",
        "# ② dfのcabinの列のデータ型を確認\n",
        "#print(ans[8]) #解答表示\n",
        "df = initialize1() #初期化\n",
        "\n",
        "\n",
        "\n",
        "print(df.schema)\n",
        "print(df.select(pl.col('cabin')).schema)"
      ]
    },
    {
      "cell_type": "code",
      "execution_count": 12,
      "metadata": {
        "id": "Fl6X4HZjfZSB",
        "colab": {
          "base_uri": "https://localhost:8080/"
        },
        "outputId": "1c7dc6c5-03b1-4bf2-ace3-402c020c2b14"
      },
      "outputs": [
        {
          "output_type": "stream",
          "name": "stdout",
          "text": [
            "Schema([('pclass', Int64)])\n",
            "Schema([('pclass', String)])\n"
          ]
        }
      ],
      "source": [
        "# 【9】\n",
        "# ① dfのpclassの列のデータ型をschemaで確認\n",
        "# ② 数値型から文字列型に変換し、データ型をschemaで確認\n",
        "#print(ans[9]) #解答表示\n",
        "df = initialize1() #初期化\n",
        "\n",
        "\n",
        "\n",
        "print(df.select(pl.col('pclass')).schema)\n",
        "df = df.with_columns(pl.col('pclass').cast(pl.Utf8))\n",
        "print(df.select(pl.col('pclass')).schema)"
      ]
    },
    {
      "cell_type": "code",
      "execution_count": 13,
      "metadata": {
        "id": "fOvpGDGSfZSC",
        "colab": {
          "base_uri": "https://localhost:8080/"
        },
        "outputId": "2c991984-d43a-4c41-d1bc-cad70f9cef43"
      },
      "outputs": [
        {
          "output_type": "execute_result",
          "data": {
            "text/plain": [
              "1309"
            ]
          },
          "metadata": {},
          "execution_count": 13
        }
      ],
      "source": [
        "# 【10】\n",
        "# dfのレコード数(行数)を確認\n",
        "#print(ans[10]) #解答表示\n",
        "df = initialize1() #初期化\n",
        "\n",
        "\n",
        "\n",
        "len(df)"
      ]
    },
    {
      "cell_type": "code",
      "execution_count": 14,
      "metadata": {
        "id": "pyi3hnxqfZSD",
        "colab": {
          "base_uri": "https://localhost:8080/",
          "height": 487
        },
        "outputId": "3bd1c54a-2299-4e72-86d7-855382a2a049"
      },
      "outputs": [
        {
          "output_type": "execute_result",
          "data": {
            "text/plain": [
              "shape: (9, 15)\n",
              "┌────────────┬──────────┬──────────┬──────────────┬───┬──────────┬──────┬────────────┬─────────────┐\n",
              "│ statistic  ┆ pclass   ┆ survived ┆ name         ┆ … ┆ embarked ┆ boat ┆ body       ┆ home.dest   │\n",
              "│ ---        ┆ ---      ┆ ---      ┆ ---          ┆   ┆ ---      ┆ ---  ┆ ---        ┆ ---         │\n",
              "│ str        ┆ f64      ┆ f64      ┆ str          ┆   ┆ str      ┆ str  ┆ f64        ┆ str         │\n",
              "╞════════════╪══════════╪══════════╪══════════════╪═══╪══════════╪══════╪════════════╪═════════════╡\n",
              "│ count      ┆ 1309.0   ┆ 1309.0   ┆ 1309         ┆ … ┆ 1307     ┆ 486  ┆ 121.0      ┆ 745         │\n",
              "│ null_count ┆ 0.0      ┆ 0.0      ┆ 0            ┆ … ┆ 2        ┆ 823  ┆ 1188.0     ┆ 564         │\n",
              "│ mean       ┆ 2.294882 ┆ 0.381971 ┆ null         ┆ … ┆ null     ┆ null ┆ 160.809917 ┆ null        │\n",
              "│ std        ┆ 0.837836 ┆ 0.486055 ┆ null         ┆ … ┆ null     ┆ null ┆ 97.696922  ┆ null        │\n",
              "│ min        ┆ 1.0      ┆ 0.0      ┆ Abbing, Mr.  ┆ … ┆ C        ┆ 1    ┆ 1.0        ┆ ?Havana,    │\n",
              "│            ┆          ┆          ┆ Anthony      ┆   ┆          ┆      ┆            ┆ Cuba        │\n",
              "│ 25%        ┆ 2.0      ┆ 0.0      ┆ null         ┆ … ┆ null     ┆ null ┆ 72.0       ┆ null        │\n",
              "│ 50%        ┆ 3.0      ┆ 0.0      ┆ null         ┆ … ┆ null     ┆ null ┆ 155.0      ┆ null        │\n",
              "│ 75%        ┆ 3.0      ┆ 1.0      ┆ null         ┆ … ┆ null     ┆ null ┆ 256.0      ┆ null        │\n",
              "│ max        ┆ 3.0      ┆ 1.0      ┆ van          ┆ … ┆ S        ┆ D    ┆ 328.0      ┆ Zurich,     │\n",
              "│            ┆          ┆          ┆ Melkebeke,   ┆   ┆          ┆      ┆            ┆ Switzerland │\n",
              "│            ┆          ┆          ┆ Mr. Philemon ┆   ┆          ┆      ┆            ┆             │\n",
              "└────────────┴──────────┴──────────┴──────────────┴───┴──────────┴──────┴────────────┴─────────────┘"
            ],
            "text/html": [
              "<div><style>\n",
              ".dataframe > thead > tr,\n",
              ".dataframe > tbody > tr {\n",
              "  text-align: right;\n",
              "  white-space: pre-wrap;\n",
              "}\n",
              "</style>\n",
              "<small>shape: (9, 15)</small><table border=\"1\" class=\"dataframe\"><thead><tr><th>statistic</th><th>pclass</th><th>survived</th><th>name</th><th>sex</th><th>age</th><th>sibsp</th><th>parch</th><th>ticket</th><th>fare</th><th>cabin</th><th>embarked</th><th>boat</th><th>body</th><th>home.dest</th></tr><tr><td>str</td><td>f64</td><td>f64</td><td>str</td><td>str</td><td>f64</td><td>f64</td><td>f64</td><td>str</td><td>f64</td><td>str</td><td>str</td><td>str</td><td>f64</td><td>str</td></tr></thead><tbody><tr><td>&quot;count&quot;</td><td>1309.0</td><td>1309.0</td><td>&quot;1309&quot;</td><td>&quot;1309&quot;</td><td>1046.0</td><td>1309.0</td><td>1309.0</td><td>&quot;1309&quot;</td><td>1308.0</td><td>&quot;295&quot;</td><td>&quot;1307&quot;</td><td>&quot;486&quot;</td><td>121.0</td><td>&quot;745&quot;</td></tr><tr><td>&quot;null_count&quot;</td><td>0.0</td><td>0.0</td><td>&quot;0&quot;</td><td>&quot;0&quot;</td><td>263.0</td><td>0.0</td><td>0.0</td><td>&quot;0&quot;</td><td>1.0</td><td>&quot;1014&quot;</td><td>&quot;2&quot;</td><td>&quot;823&quot;</td><td>1188.0</td><td>&quot;564&quot;</td></tr><tr><td>&quot;mean&quot;</td><td>2.294882</td><td>0.381971</td><td>null</td><td>null</td><td>29.881138</td><td>0.498854</td><td>0.385027</td><td>null</td><td>33.295479</td><td>null</td><td>null</td><td>null</td><td>160.809917</td><td>null</td></tr><tr><td>&quot;std&quot;</td><td>0.837836</td><td>0.486055</td><td>null</td><td>null</td><td>14.413493</td><td>1.041658</td><td>0.86556</td><td>null</td><td>51.758668</td><td>null</td><td>null</td><td>null</td><td>97.696922</td><td>null</td></tr><tr><td>&quot;min&quot;</td><td>1.0</td><td>0.0</td><td>&quot;Abbing, Mr. Anthony&quot;</td><td>&quot;female&quot;</td><td>0.17</td><td>0.0</td><td>0.0</td><td>&quot;110152&quot;</td><td>0.0</td><td>&quot;A10&quot;</td><td>&quot;C&quot;</td><td>&quot;1&quot;</td><td>1.0</td><td>&quot;?Havana, Cuba&quot;</td></tr><tr><td>&quot;25%&quot;</td><td>2.0</td><td>0.0</td><td>null</td><td>null</td><td>21.0</td><td>0.0</td><td>0.0</td><td>null</td><td>7.8958</td><td>null</td><td>null</td><td>null</td><td>72.0</td><td>null</td></tr><tr><td>&quot;50%&quot;</td><td>3.0</td><td>0.0</td><td>null</td><td>null</td><td>28.0</td><td>0.0</td><td>0.0</td><td>null</td><td>14.4542</td><td>null</td><td>null</td><td>null</td><td>155.0</td><td>null</td></tr><tr><td>&quot;75%&quot;</td><td>3.0</td><td>1.0</td><td>null</td><td>null</td><td>39.0</td><td>1.0</td><td>0.0</td><td>null</td><td>31.275</td><td>null</td><td>null</td><td>null</td><td>256.0</td><td>null</td></tr><tr><td>&quot;max&quot;</td><td>3.0</td><td>1.0</td><td>&quot;van Melkebeke, Mr. Philemon&quot;</td><td>&quot;male&quot;</td><td>80.0</td><td>8.0</td><td>9.0</td><td>&quot;WE/P 5735&quot;</td><td>512.3292</td><td>&quot;T&quot;</td><td>&quot;S&quot;</td><td>&quot;D&quot;</td><td>328.0</td><td>&quot;Zurich, Switzerland&quot;</td></tr></tbody></table></div>"
            ]
          },
          "metadata": {},
          "execution_count": 14
        }
      ],
      "source": [
        "# 【11】\n",
        "# dfのレコード数(行数)、各列のデータ型、欠損値の有無を確認\n",
        "#print(ans[11]) #解答表示\n",
        "df = initialize1() #初期化\n",
        "\n",
        "\n",
        "\n",
        "df.describe()"
      ]
    },
    {
      "cell_type": "code",
      "execution_count": 16,
      "metadata": {
        "id": "yPKEHcbAfZSD",
        "colab": {
          "base_uri": "https://localhost:8080/"
        },
        "outputId": "fc15aa6a-c6b4-47cf-8d20-e9c73730610b"
      },
      "outputs": [
        {
          "output_type": "stream",
          "name": "stdout",
          "text": [
            "shape: (2, 1)\n",
            "┌────────┐\n",
            "│ sex    │\n",
            "│ ---    │\n",
            "│ str    │\n",
            "╞════════╡\n",
            "│ female │\n",
            "│ male   │\n",
            "└────────┘\n",
            "shape: (187, 1)\n",
            "┌───────┐\n",
            "│ cabin │\n",
            "│ ---   │\n",
            "│ str   │\n",
            "╞═══════╡\n",
            "│ A34   │\n",
            "│ C47   │\n",
            "│ C2    │\n",
            "│ E8    │\n",
            "│ C90   │\n",
            "│ …     │\n",
            "│ D     │\n",
            "│ F G73 │\n",
            "│ E60   │\n",
            "│ D38   │\n",
            "│ A23   │\n",
            "└───────┘\n"
          ]
        }
      ],
      "source": [
        "# 【12】\n",
        "# dfのsex,cabinの列の要素を確認\n",
        "#print(ans[12]) #解答表示\n",
        "df = initialize1() #初期化\n",
        "\n",
        "\n",
        "\n",
        "print(df.select(pl.col('sex').unique()))\n",
        "print(df.select(pl.col('cabin').unique()))"
      ]
    },
    {
      "cell_type": "code",
      "execution_count": 17,
      "metadata": {
        "id": "VCQkPDCwfZSE",
        "colab": {
          "base_uri": "https://localhost:8080/"
        },
        "outputId": "800a525b-1ab3-43fe-e662-6424b765a1ec"
      },
      "outputs": [
        {
          "output_type": "execute_result",
          "data": {
            "text/plain": [
              "['pclass',\n",
              " 'survived',\n",
              " 'name',\n",
              " 'sex',\n",
              " 'age',\n",
              " 'sibsp',\n",
              " 'parch',\n",
              " 'ticket',\n",
              " 'fare',\n",
              " 'cabin',\n",
              " 'embarked',\n",
              " 'boat',\n",
              " 'body',\n",
              " 'home.dest']"
            ]
          },
          "metadata": {},
          "execution_count": 17
        }
      ],
      "source": [
        "# 【13】\n",
        "# dfの列名一覧を表示\n",
        "#print(ans[13]) #解答表示\n",
        "df = initialize1() #初期化\n",
        "\n",
        "\n",
        "\n",
        "df.columns"
      ]
    },
    {
      "cell_type": "code",
      "execution_count": 19,
      "metadata": {
        "id": "DjQ-oIKMfZSF",
        "colab": {
          "base_uri": "https://localhost:8080/"
        },
        "outputId": "c50615ca-4ae1-4751-801c-18751a695d8b"
      },
      "outputs": [
        {
          "output_type": "execute_result",
          "data": {
            "text/plain": [
              "array([1, 1, 1, ..., 3, 3, 3])"
            ]
          },
          "metadata": {},
          "execution_count": 19
        }
      ],
      "source": [
        "# 【14】\n",
        "# dfのpclassの列をndarray形式で表示\n",
        "#print(ans[14]) #解答表示\n",
        "df = initialize1() #初期化\n",
        "\n",
        "\n",
        "\n",
        "df.get_column('pclass').to_numpy()"
      ]
    },
    {
      "cell_type": "markdown",
      "metadata": {
        "id": "01c0h-nufZSF"
      },
      "source": [
        "# データ抽出 (15 - 36)"
      ]
    },
    {
      "cell_type": "code",
      "execution_count": 20,
      "metadata": {
        "id": "TZd2tmZjfZSG",
        "colab": {
          "base_uri": "https://localhost:8080/",
          "height": 443
        },
        "outputId": "9d90cfb6-2770-4ee1-c7ea-46bb85b81f92"
      },
      "outputs": [
        {
          "output_type": "execute_result",
          "data": {
            "text/plain": [
              "shape: (1_309, 1)\n",
              "┌────────┐\n",
              "│ pclass │\n",
              "│ ---    │\n",
              "│ i64    │\n",
              "╞════════╡\n",
              "│ 1      │\n",
              "│ 1      │\n",
              "│ 1      │\n",
              "│ 1      │\n",
              "│ 1      │\n",
              "│ …      │\n",
              "│ 3      │\n",
              "│ 3      │\n",
              "│ 3      │\n",
              "│ 3      │\n",
              "│ 3      │\n",
              "└────────┘"
            ],
            "text/html": [
              "<div><style>\n",
              ".dataframe > thead > tr,\n",
              ".dataframe > tbody > tr {\n",
              "  text-align: right;\n",
              "  white-space: pre-wrap;\n",
              "}\n",
              "</style>\n",
              "<small>shape: (1_309, 1)</small><table border=\"1\" class=\"dataframe\"><thead><tr><th>pclass</th></tr><tr><td>i64</td></tr></thead><tbody><tr><td>1</td></tr><tr><td>1</td></tr><tr><td>1</td></tr><tr><td>1</td></tr><tr><td>1</td></tr><tr><td>&hellip;</td></tr><tr><td>3</td></tr><tr><td>3</td></tr><tr><td>3</td></tr><tr><td>3</td></tr><tr><td>3</td></tr></tbody></table></div>"
            ]
          },
          "metadata": {},
          "execution_count": 20
        }
      ],
      "source": [
        "# 【15】\n",
        "# selectを使ってdfのpclass列のみ表示\n",
        "#print(ans[15]) #解答表示\n",
        "df = initialize1() #初期化\n",
        "\n",
        "\n",
        "\n",
        "df.select('pclass')"
      ]
    },
    {
      "cell_type": "code",
      "execution_count": 21,
      "metadata": {
        "id": "7E4vv_pifZSH",
        "colab": {
          "base_uri": "https://localhost:8080/",
          "height": 443
        },
        "outputId": "c4ef81de-d65e-4d16-9856-c0d24e97a5d0"
      },
      "outputs": [
        {
          "output_type": "execute_result",
          "data": {
            "text/plain": [
              "shape: (1_309,)\n",
              "Series: 'pclass' [i64]\n",
              "[\n",
              "\t1\n",
              "\t1\n",
              "\t1\n",
              "\t1\n",
              "\t1\n",
              "\t…\n",
              "\t3\n",
              "\t3\n",
              "\t3\n",
              "\t3\n",
              "\t3\n",
              "]"
            ],
            "text/html": [
              "<div><style>\n",
              ".dataframe > thead > tr,\n",
              ".dataframe > tbody > tr {\n",
              "  text-align: right;\n",
              "  white-space: pre-wrap;\n",
              "}\n",
              "</style>\n",
              "<small>shape: (1_309,)</small><table border=\"1\" class=\"dataframe\"><thead><tr><th>pclass</th></tr><tr><td>i64</td></tr></thead><tbody><tr><td>1</td></tr><tr><td>1</td></tr><tr><td>1</td></tr><tr><td>1</td></tr><tr><td>1</td></tr><tr><td>&hellip;</td></tr><tr><td>3</td></tr><tr><td>3</td></tr><tr><td>3</td></tr><tr><td>3</td></tr><tr><td>3</td></tr></tbody></table></div>"
            ]
          },
          "metadata": {},
          "execution_count": 21
        }
      ],
      "source": [
        "# 【16】\n",
        "# get_columnを用いてdfのpclass列のみ表示\n",
        "#print(ans[16]) #解答表示\n",
        "df = initialize1() #初期化\n",
        "\n",
        "\n",
        "\n",
        "df.get_column('pclass')"
      ]
    },
    {
      "cell_type": "code",
      "execution_count": 24,
      "metadata": {
        "id": "ngyCIPXqfZSI",
        "colab": {
          "base_uri": "https://localhost:8080/",
          "height": 443
        },
        "outputId": "039b978a-639d-46df-8018-693818bacf35"
      },
      "outputs": [
        {
          "output_type": "execute_result",
          "data": {
            "text/plain": [
              "shape: (1_309,)\n",
              "Series: 'pclass' [i64]\n",
              "[\n",
              "\t1\n",
              "\t1\n",
              "\t1\n",
              "\t1\n",
              "\t1\n",
              "\t…\n",
              "\t3\n",
              "\t3\n",
              "\t3\n",
              "\t3\n",
              "\t3\n",
              "]"
            ],
            "text/html": [
              "<div><style>\n",
              ".dataframe > thead > tr,\n",
              ".dataframe > tbody > tr {\n",
              "  text-align: right;\n",
              "  white-space: pre-wrap;\n",
              "}\n",
              "</style>\n",
              "<small>shape: (1_309,)</small><table border=\"1\" class=\"dataframe\"><thead><tr><th>pclass</th></tr><tr><td>i64</td></tr></thead><tbody><tr><td>1</td></tr><tr><td>1</td></tr><tr><td>1</td></tr><tr><td>1</td></tr><tr><td>1</td></tr><tr><td>&hellip;</td></tr><tr><td>3</td></tr><tr><td>3</td></tr><tr><td>3</td></tr><tr><td>3</td></tr><tr><td>3</td></tr></tbody></table></div>"
            ]
          },
          "metadata": {},
          "execution_count": 24
        }
      ],
      "source": [
        "# 【17】\n",
        "# get_columnsを用いてdfのpclass列のみ表示\n",
        "#print(ans[17]) #解答表示\n",
        "df = initialize1() #初期化\n",
        "\n",
        "\n",
        "\n",
        "df.get_columns()[0]"
      ]
    },
    {
      "cell_type": "code",
      "execution_count": 26,
      "metadata": {
        "id": "xDfTkoMzfZSJ",
        "colab": {
          "base_uri": "https://localhost:8080/",
          "height": 443
        },
        "outputId": "5c38c73a-c336-4981-d570-8d1bac22c27d"
      },
      "outputs": [
        {
          "output_type": "execute_result",
          "data": {
            "text/plain": [
              "shape: (1_309, 2)\n",
              "┌─────────────────────────────────┬────────┐\n",
              "│ name                            ┆ sex    │\n",
              "│ ---                             ┆ ---    │\n",
              "│ str                             ┆ str    │\n",
              "╞═════════════════════════════════╪════════╡\n",
              "│ Allen, Miss. Elisabeth Walton   ┆ female │\n",
              "│ Allison, Master. Hudson Trevor  ┆ male   │\n",
              "│ Allison, Miss. Helen Loraine    ┆ female │\n",
              "│ Allison, Mr. Hudson Joshua Cre… ┆ male   │\n",
              "│ Allison, Mrs. Hudson J C (Bess… ┆ female │\n",
              "│ …                               ┆ …      │\n",
              "│ Zabour, Miss. Hileni            ┆ female │\n",
              "│ Zabour, Miss. Thamine           ┆ female │\n",
              "│ Zakarian, Mr. Mapriededer       ┆ male   │\n",
              "│ Zakarian, Mr. Ortin             ┆ male   │\n",
              "│ Zimmerman, Mr. Leo              ┆ male   │\n",
              "└─────────────────────────────────┴────────┘"
            ],
            "text/html": [
              "<div><style>\n",
              ".dataframe > thead > tr,\n",
              ".dataframe > tbody > tr {\n",
              "  text-align: right;\n",
              "  white-space: pre-wrap;\n",
              "}\n",
              "</style>\n",
              "<small>shape: (1_309, 2)</small><table border=\"1\" class=\"dataframe\"><thead><tr><th>name</th><th>sex</th></tr><tr><td>str</td><td>str</td></tr></thead><tbody><tr><td>&quot;Allen, Miss. Elisabeth Walton&quot;</td><td>&quot;female&quot;</td></tr><tr><td>&quot;Allison, Master. Hudson Trevor&quot;</td><td>&quot;male&quot;</td></tr><tr><td>&quot;Allison, Miss. Helen Loraine&quot;</td><td>&quot;female&quot;</td></tr><tr><td>&quot;Allison, Mr. Hudson Joshua Cre…</td><td>&quot;male&quot;</td></tr><tr><td>&quot;Allison, Mrs. Hudson J C (Bess…</td><td>&quot;female&quot;</td></tr><tr><td>&hellip;</td><td>&hellip;</td></tr><tr><td>&quot;Zabour, Miss. Hileni&quot;</td><td>&quot;female&quot;</td></tr><tr><td>&quot;Zabour, Miss. Thamine&quot;</td><td>&quot;female&quot;</td></tr><tr><td>&quot;Zakarian, Mr. Mapriededer&quot;</td><td>&quot;male&quot;</td></tr><tr><td>&quot;Zakarian, Mr. Ortin&quot;</td><td>&quot;male&quot;</td></tr><tr><td>&quot;Zimmerman, Mr. Leo&quot;</td><td>&quot;male&quot;</td></tr></tbody></table></div>"
            ]
          },
          "metadata": {},
          "execution_count": 26
        }
      ],
      "source": [
        "# 【18】\n",
        "# selectを用いてdfのnameとsexの列のみ表示\n",
        "#print(ans[18]) #解答表示\n",
        "df = initialize1() #初期化\n",
        "\n",
        "\n",
        "\n",
        "df.select(['name', 'sex'])"
      ]
    },
    {
      "cell_type": "code",
      "execution_count": 30,
      "metadata": {
        "id": "4JRazOclfZSJ",
        "colab": {
          "base_uri": "https://localhost:8080/"
        },
        "outputId": "da6150b5-09ae-4594-b5a3-362c64d8394e"
      },
      "outputs": [
        {
          "output_type": "stream",
          "name": "stdout",
          "text": [
            "[answer19]\n",
            "\n",
            "df.get_column(['name', 'sex'])\n",
            "\n",
            "\n",
            "----------------------------------------------\n",
            "\n",
            "[Tips]\n",
            "・get_columnに列名をリストで渡すことで複数列の抽出も可能\n",
            "・selectのように抽出後の列に対して処理を加えることはできない\n",
            "\n",
            "----------------------------------------------\n",
            "\n",
            "[参考] pandas記法\n",
            "\n",
            "df[['name','sex']]\n"
          ]
        }
      ],
      "source": [
        "# 【19】\n",
        "# get_columnを用いてdfのnameとsexの列のみ表示\n",
        "print(ans[19]) #解答表示\n",
        "df = initialize1() #初期化\n",
        "\n",
        "\n"
      ]
    },
    {
      "cell_type": "code",
      "execution_count": 31,
      "metadata": {
        "id": "yL0khL4bfZSK",
        "colab": {
          "base_uri": "https://localhost:8080/",
          "height": 512
        },
        "outputId": "a523bbd1-4fb3-4c63-9c06-d686321b56d4"
      },
      "outputs": [
        {
          "output_type": "execute_result",
          "data": {
            "text/plain": [
              "shape: (1_309, 13)\n",
              "┌────────┬──────────┬────────┬──────┬───┬──────────┬──────┬──────┬─────────────────────────────────┐\n",
              "│ pclass ┆ survived ┆ sex    ┆ age  ┆ … ┆ embarked ┆ boat ┆ body ┆ home.dest                       │\n",
              "│ ---    ┆ ---      ┆ ---    ┆ ---  ┆   ┆ ---      ┆ ---  ┆ ---  ┆ ---                             │\n",
              "│ i64    ┆ i64      ┆ str    ┆ f64  ┆   ┆ str      ┆ str  ┆ i64  ┆ str                             │\n",
              "╞════════╪══════════╪════════╪══════╪═══╪══════════╪══════╪══════╪═════════════════════════════════╡\n",
              "│ 1      ┆ 1        ┆ female ┆ 29.0 ┆ … ┆ S        ┆ 2    ┆ null ┆ St Louis, MO                    │\n",
              "│ 1      ┆ 1        ┆ male   ┆ 0.92 ┆ … ┆ S        ┆ 11   ┆ null ┆ Montreal, PQ / Chesterville, O… │\n",
              "│ 1      ┆ 0        ┆ female ┆ 2.0  ┆ … ┆ S        ┆ null ┆ null ┆ Montreal, PQ / Chesterville, O… │\n",
              "│ 1      ┆ 0        ┆ male   ┆ 30.0 ┆ … ┆ S        ┆ null ┆ 135  ┆ Montreal, PQ / Chesterville, O… │\n",
              "│ 1      ┆ 0        ┆ female ┆ 25.0 ┆ … ┆ S        ┆ null ┆ null ┆ Montreal, PQ / Chesterville, O… │\n",
              "│ …      ┆ …        ┆ …      ┆ …    ┆ … ┆ …        ┆ …    ┆ …    ┆ …                               │\n",
              "│ 3      ┆ 0        ┆ female ┆ 14.5 ┆ … ┆ C        ┆ null ┆ 328  ┆ null                            │\n",
              "│ 3      ┆ 0        ┆ female ┆ null ┆ … ┆ C        ┆ null ┆ null ┆ null                            │\n",
              "│ 3      ┆ 0        ┆ male   ┆ 26.5 ┆ … ┆ C        ┆ null ┆ 304  ┆ null                            │\n",
              "│ 3      ┆ 0        ┆ male   ┆ 27.0 ┆ … ┆ C        ┆ null ┆ null ┆ null                            │\n",
              "│ 3      ┆ 0        ┆ male   ┆ 29.0 ┆ … ┆ S        ┆ null ┆ null ┆ null                            │\n",
              "└────────┴──────────┴────────┴──────┴───┴──────────┴──────┴──────┴─────────────────────────────────┘"
            ],
            "text/html": [
              "<div><style>\n",
              ".dataframe > thead > tr,\n",
              ".dataframe > tbody > tr {\n",
              "  text-align: right;\n",
              "  white-space: pre-wrap;\n",
              "}\n",
              "</style>\n",
              "<small>shape: (1_309, 13)</small><table border=\"1\" class=\"dataframe\"><thead><tr><th>pclass</th><th>survived</th><th>sex</th><th>age</th><th>sibsp</th><th>parch</th><th>ticket</th><th>fare</th><th>cabin</th><th>embarked</th><th>boat</th><th>body</th><th>home.dest</th></tr><tr><td>i64</td><td>i64</td><td>str</td><td>f64</td><td>i64</td><td>i64</td><td>str</td><td>f64</td><td>str</td><td>str</td><td>str</td><td>i64</td><td>str</td></tr></thead><tbody><tr><td>1</td><td>1</td><td>&quot;female&quot;</td><td>29.0</td><td>0</td><td>0</td><td>&quot;24160&quot;</td><td>211.3375</td><td>&quot;B5&quot;</td><td>&quot;S&quot;</td><td>&quot;2&quot;</td><td>null</td><td>&quot;St Louis, MO&quot;</td></tr><tr><td>1</td><td>1</td><td>&quot;male&quot;</td><td>0.92</td><td>1</td><td>2</td><td>&quot;113781&quot;</td><td>151.55</td><td>&quot;C22 C26&quot;</td><td>&quot;S&quot;</td><td>&quot;11&quot;</td><td>null</td><td>&quot;Montreal, PQ / Chesterville, O…</td></tr><tr><td>1</td><td>0</td><td>&quot;female&quot;</td><td>2.0</td><td>1</td><td>2</td><td>&quot;113781&quot;</td><td>151.55</td><td>&quot;C22 C26&quot;</td><td>&quot;S&quot;</td><td>null</td><td>null</td><td>&quot;Montreal, PQ / Chesterville, O…</td></tr><tr><td>1</td><td>0</td><td>&quot;male&quot;</td><td>30.0</td><td>1</td><td>2</td><td>&quot;113781&quot;</td><td>151.55</td><td>&quot;C22 C26&quot;</td><td>&quot;S&quot;</td><td>null</td><td>135</td><td>&quot;Montreal, PQ / Chesterville, O…</td></tr><tr><td>1</td><td>0</td><td>&quot;female&quot;</td><td>25.0</td><td>1</td><td>2</td><td>&quot;113781&quot;</td><td>151.55</td><td>&quot;C22 C26&quot;</td><td>&quot;S&quot;</td><td>null</td><td>null</td><td>&quot;Montreal, PQ / Chesterville, O…</td></tr><tr><td>&hellip;</td><td>&hellip;</td><td>&hellip;</td><td>&hellip;</td><td>&hellip;</td><td>&hellip;</td><td>&hellip;</td><td>&hellip;</td><td>&hellip;</td><td>&hellip;</td><td>&hellip;</td><td>&hellip;</td><td>&hellip;</td></tr><tr><td>3</td><td>0</td><td>&quot;female&quot;</td><td>14.5</td><td>1</td><td>0</td><td>&quot;2665&quot;</td><td>14.4542</td><td>null</td><td>&quot;C&quot;</td><td>null</td><td>328</td><td>null</td></tr><tr><td>3</td><td>0</td><td>&quot;female&quot;</td><td>null</td><td>1</td><td>0</td><td>&quot;2665&quot;</td><td>14.4542</td><td>null</td><td>&quot;C&quot;</td><td>null</td><td>null</td><td>null</td></tr><tr><td>3</td><td>0</td><td>&quot;male&quot;</td><td>26.5</td><td>0</td><td>0</td><td>&quot;2656&quot;</td><td>7.225</td><td>null</td><td>&quot;C&quot;</td><td>null</td><td>304</td><td>null</td></tr><tr><td>3</td><td>0</td><td>&quot;male&quot;</td><td>27.0</td><td>0</td><td>0</td><td>&quot;2670&quot;</td><td>7.225</td><td>null</td><td>&quot;C&quot;</td><td>null</td><td>null</td><td>null</td></tr><tr><td>3</td><td>0</td><td>&quot;male&quot;</td><td>29.0</td><td>0</td><td>0</td><td>&quot;315082&quot;</td><td>7.875</td><td>null</td><td>&quot;S&quot;</td><td>null</td><td>null</td><td>null</td></tr></tbody></table></div>"
            ]
          },
          "metadata": {},
          "execution_count": 31
        }
      ],
      "source": [
        "# 【20】\n",
        "# dfのname列以外を表示\n",
        "#print(ans[20]) #解答表示\n",
        "df = initialize1() #初期化\n",
        "\n",
        "\n",
        "\n",
        "df.select(pl.all().exclude('name'))"
      ]
    },
    {
      "cell_type": "code",
      "execution_count": 32,
      "metadata": {
        "id": "C1xeSmYVfZSK",
        "colab": {
          "base_uri": "https://localhost:8080/",
          "height": 505
        },
        "outputId": "9f3bb061-2d11-4cae-81b8-f89d5a0f219d"
      },
      "outputs": [
        {
          "output_type": "stream",
          "name": "stderr",
          "text": [
            "<ipython-input-32-854eba21fecd>:10: DeprecationWarning: `DataFrame.with_row_count` is deprecated. Use `with_row_index` instead. Note that the default column name has changed from 'row_nr' to 'index'.\n",
            "  df = df.with_row_count()\n"
          ]
        },
        {
          "output_type": "execute_result",
          "data": {
            "text/plain": [
              "shape: (4, 15)\n",
              "┌────────┬────────┬──────────┬────────────────────┬───┬──────────┬──────┬──────┬───────────────────┐\n",
              "│ row_nr ┆ pclass ┆ survived ┆ name               ┆ … ┆ embarked ┆ boat ┆ body ┆ home.dest         │\n",
              "│ ---    ┆ ---    ┆ ---      ┆ ---                ┆   ┆ ---      ┆ ---  ┆ ---  ┆ ---               │\n",
              "│ u32    ┆ i64    ┆ i64      ┆ str                ┆   ┆ str      ┆ str  ┆ i64  ┆ str               │\n",
              "╞════════╪════════╪══════════╪════════════════════╪═══╪══════════╪══════╪══════╪═══════════════════╡\n",
              "│ 0      ┆ 1      ┆ 1        ┆ Allen, Miss.       ┆ … ┆ S        ┆ 2    ┆ null ┆ St Louis, MO      │\n",
              "│        ┆        ┆          ┆ Elisabeth Walton   ┆   ┆          ┆      ┆      ┆                   │\n",
              "│ 1      ┆ 1      ┆ 1        ┆ Allison, Master.   ┆ … ┆ S        ┆ 11   ┆ null ┆ Montreal, PQ /    │\n",
              "│        ┆        ┆          ┆ Hudson Trevor      ┆   ┆          ┆      ┆      ┆ Chesterville, O…  │\n",
              "│ 2      ┆ 1      ┆ 0        ┆ Allison, Miss.     ┆ … ┆ S        ┆ null ┆ null ┆ Montreal, PQ /    │\n",
              "│        ┆        ┆          ┆ Helen Loraine      ┆   ┆          ┆      ┆      ┆ Chesterville, O…  │\n",
              "│ 3      ┆ 1      ┆ 0        ┆ Allison, Mr.       ┆ … ┆ S        ┆ null ┆ 135  ┆ Montreal, PQ /    │\n",
              "│        ┆        ┆          ┆ Hudson Joshua Cre… ┆   ┆          ┆      ┆      ┆ Chesterville, O…  │\n",
              "└────────┴────────┴──────────┴────────────────────┴───┴──────────┴──────┴──────┴───────────────────┘"
            ],
            "text/html": [
              "<div><style>\n",
              ".dataframe > thead > tr,\n",
              ".dataframe > tbody > tr {\n",
              "  text-align: right;\n",
              "  white-space: pre-wrap;\n",
              "}\n",
              "</style>\n",
              "<small>shape: (4, 15)</small><table border=\"1\" class=\"dataframe\"><thead><tr><th>row_nr</th><th>pclass</th><th>survived</th><th>name</th><th>sex</th><th>age</th><th>sibsp</th><th>parch</th><th>ticket</th><th>fare</th><th>cabin</th><th>embarked</th><th>boat</th><th>body</th><th>home.dest</th></tr><tr><td>u32</td><td>i64</td><td>i64</td><td>str</td><td>str</td><td>f64</td><td>i64</td><td>i64</td><td>str</td><td>f64</td><td>str</td><td>str</td><td>str</td><td>i64</td><td>str</td></tr></thead><tbody><tr><td>0</td><td>1</td><td>1</td><td>&quot;Allen, Miss. Elisabeth Walton&quot;</td><td>&quot;female&quot;</td><td>29.0</td><td>0</td><td>0</td><td>&quot;24160&quot;</td><td>211.3375</td><td>&quot;B5&quot;</td><td>&quot;S&quot;</td><td>&quot;2&quot;</td><td>null</td><td>&quot;St Louis, MO&quot;</td></tr><tr><td>1</td><td>1</td><td>1</td><td>&quot;Allison, Master. Hudson Trevor&quot;</td><td>&quot;male&quot;</td><td>0.92</td><td>1</td><td>2</td><td>&quot;113781&quot;</td><td>151.55</td><td>&quot;C22 C26&quot;</td><td>&quot;S&quot;</td><td>&quot;11&quot;</td><td>null</td><td>&quot;Montreal, PQ / Chesterville, O…</td></tr><tr><td>2</td><td>1</td><td>0</td><td>&quot;Allison, Miss. Helen Loraine&quot;</td><td>&quot;female&quot;</td><td>2.0</td><td>1</td><td>2</td><td>&quot;113781&quot;</td><td>151.55</td><td>&quot;C22 C26&quot;</td><td>&quot;S&quot;</td><td>null</td><td>null</td><td>&quot;Montreal, PQ / Chesterville, O…</td></tr><tr><td>3</td><td>1</td><td>0</td><td>&quot;Allison, Mr. Hudson Joshua Cre…</td><td>&quot;male&quot;</td><td>30.0</td><td>1</td><td>2</td><td>&quot;113781&quot;</td><td>151.55</td><td>&quot;C22 C26&quot;</td><td>&quot;S&quot;</td><td>null</td><td>135</td><td>&quot;Montreal, PQ / Chesterville, O…</td></tr></tbody></table></div>"
            ]
          },
          "metadata": {},
          "execution_count": 32
        }
      ],
      "source": [
        "# 【21】\n",
        "# dfの4行目までを表示\n",
        "# なお、確認のためにwith_row_countで\n",
        "# インデックスを振る\n",
        "#print(ans[21]) #解答表示\n",
        "df = initialize1() #初期化\n",
        "\n",
        "\n",
        "\n",
        "df = df.with_row_count()\n",
        "df[:4]"
      ]
    },
    {
      "cell_type": "code",
      "execution_count": 33,
      "metadata": {
        "id": "rjIE4dKRfZSL",
        "colab": {
          "base_uri": "https://localhost:8080/",
          "height": 563
        },
        "outputId": "fcdf12d9-aeeb-434d-af8d-40782740a82a"
      },
      "outputs": [
        {
          "output_type": "execute_result",
          "data": {
            "text/plain": [
              "shape: (7, 15)\n",
              "┌────────┬────────┬──────────┬────────────────────┬───┬──────────┬──────┬──────┬───────────────────┐\n",
              "│ row_nr ┆ pclass ┆ survived ┆ name               ┆ … ┆ embarked ┆ boat ┆ body ┆ home.dest         │\n",
              "│ ---    ┆ ---    ┆ ---      ┆ ---                ┆   ┆ ---      ┆ ---  ┆ ---  ┆ ---               │\n",
              "│ u32    ┆ i64    ┆ i64      ┆ str                ┆   ┆ str      ┆ str  ┆ i64  ┆ str               │\n",
              "╞════════╪════════╪══════════╪════════════════════╪═══╪══════════╪══════╪══════╪═══════════════════╡\n",
              "│ 3      ┆ 1      ┆ 0        ┆ Allison, Mr.       ┆ … ┆ S        ┆ null ┆ 135  ┆ Montreal, PQ /    │\n",
              "│        ┆        ┆          ┆ Hudson Joshua Cre… ┆   ┆          ┆      ┆      ┆ Chesterville, O…  │\n",
              "│ 4      ┆ 1      ┆ 0        ┆ Allison, Mrs.      ┆ … ┆ S        ┆ null ┆ null ┆ Montreal, PQ /    │\n",
              "│        ┆        ┆          ┆ Hudson J C (Bess…  ┆   ┆          ┆      ┆      ┆ Chesterville, O…  │\n",
              "│ 5      ┆ 1      ┆ 1        ┆ Anderson, Mr.      ┆ … ┆ S        ┆ 3    ┆ null ┆ New York, NY      │\n",
              "│        ┆        ┆          ┆ Harry              ┆   ┆          ┆      ┆      ┆                   │\n",
              "│ 6      ┆ 1      ┆ 1        ┆ Andrews, Miss.     ┆ … ┆ S        ┆ 10   ┆ null ┆ Hudson, NY        │\n",
              "│        ┆        ┆          ┆ Kornelia Theodo…   ┆   ┆          ┆      ┆      ┆                   │\n",
              "│ 7      ┆ 1      ┆ 0        ┆ Andrews, Mr.       ┆ … ┆ S        ┆ null ┆ null ┆ Belfast, NI       │\n",
              "│        ┆        ┆          ┆ Thomas Jr          ┆   ┆          ┆      ┆      ┆                   │\n",
              "│ 8      ┆ 1      ┆ 1        ┆ Appleton, Mrs.     ┆ … ┆ S        ┆ D    ┆ null ┆ Bayside, Queens,  │\n",
              "│        ┆        ┆          ┆ Edward Dale (Ch…   ┆   ┆          ┆      ┆      ┆ NY                │\n",
              "│ 9      ┆ 1      ┆ 0        ┆ Artagaveytia, Mr.  ┆ … ┆ C        ┆ null ┆ 22   ┆ Montevideo,       │\n",
              "│        ┆        ┆          ┆ Ramon              ┆   ┆          ┆      ┆      ┆ Uruguay           │\n",
              "└────────┴────────┴──────────┴────────────────────┴───┴──────────┴──────┴──────┴───────────────────┘"
            ],
            "text/html": [
              "<div><style>\n",
              ".dataframe > thead > tr,\n",
              ".dataframe > tbody > tr {\n",
              "  text-align: right;\n",
              "  white-space: pre-wrap;\n",
              "}\n",
              "</style>\n",
              "<small>shape: (7, 15)</small><table border=\"1\" class=\"dataframe\"><thead><tr><th>row_nr</th><th>pclass</th><th>survived</th><th>name</th><th>sex</th><th>age</th><th>sibsp</th><th>parch</th><th>ticket</th><th>fare</th><th>cabin</th><th>embarked</th><th>boat</th><th>body</th><th>home.dest</th></tr><tr><td>u32</td><td>i64</td><td>i64</td><td>str</td><td>str</td><td>f64</td><td>i64</td><td>i64</td><td>str</td><td>f64</td><td>str</td><td>str</td><td>str</td><td>i64</td><td>str</td></tr></thead><tbody><tr><td>3</td><td>1</td><td>0</td><td>&quot;Allison, Mr. Hudson Joshua Cre…</td><td>&quot;male&quot;</td><td>30.0</td><td>1</td><td>2</td><td>&quot;113781&quot;</td><td>151.55</td><td>&quot;C22 C26&quot;</td><td>&quot;S&quot;</td><td>null</td><td>135</td><td>&quot;Montreal, PQ / Chesterville, O…</td></tr><tr><td>4</td><td>1</td><td>0</td><td>&quot;Allison, Mrs. Hudson J C (Bess…</td><td>&quot;female&quot;</td><td>25.0</td><td>1</td><td>2</td><td>&quot;113781&quot;</td><td>151.55</td><td>&quot;C22 C26&quot;</td><td>&quot;S&quot;</td><td>null</td><td>null</td><td>&quot;Montreal, PQ / Chesterville, O…</td></tr><tr><td>5</td><td>1</td><td>1</td><td>&quot;Anderson, Mr. Harry&quot;</td><td>&quot;male&quot;</td><td>48.0</td><td>0</td><td>0</td><td>&quot;19952&quot;</td><td>26.55</td><td>&quot;E12&quot;</td><td>&quot;S&quot;</td><td>&quot;3&quot;</td><td>null</td><td>&quot;New York, NY&quot;</td></tr><tr><td>6</td><td>1</td><td>1</td><td>&quot;Andrews, Miss. Kornelia Theodo…</td><td>&quot;female&quot;</td><td>63.0</td><td>1</td><td>0</td><td>&quot;13502&quot;</td><td>77.9583</td><td>&quot;D7&quot;</td><td>&quot;S&quot;</td><td>&quot;10&quot;</td><td>null</td><td>&quot;Hudson, NY&quot;</td></tr><tr><td>7</td><td>1</td><td>0</td><td>&quot;Andrews, Mr. Thomas Jr&quot;</td><td>&quot;male&quot;</td><td>39.0</td><td>0</td><td>0</td><td>&quot;112050&quot;</td><td>0.0</td><td>&quot;A36&quot;</td><td>&quot;S&quot;</td><td>null</td><td>null</td><td>&quot;Belfast, NI&quot;</td></tr><tr><td>8</td><td>1</td><td>1</td><td>&quot;Appleton, Mrs. Edward Dale (Ch…</td><td>&quot;female&quot;</td><td>53.0</td><td>2</td><td>0</td><td>&quot;11769&quot;</td><td>51.4792</td><td>&quot;C101&quot;</td><td>&quot;S&quot;</td><td>&quot;D&quot;</td><td>null</td><td>&quot;Bayside, Queens, NY&quot;</td></tr><tr><td>9</td><td>1</td><td>0</td><td>&quot;Artagaveytia, Mr. Ramon&quot;</td><td>&quot;male&quot;</td><td>71.0</td><td>0</td><td>0</td><td>&quot;PC 17609&quot;</td><td>49.5042</td><td>null</td><td>&quot;C&quot;</td><td>null</td><td>22</td><td>&quot;Montevideo, Uruguay&quot;</td></tr></tbody></table></div>"
            ]
          },
          "metadata": {},
          "execution_count": 33
        }
      ],
      "source": [
        "# 【22】\n",
        "# dfの4行目から10行目までを表示\n",
        "# なお、確認のためにwith_row_countで\n",
        "# インデックスを振る\n",
        "#print(ans[22]) #解答表示\n",
        "df = initialize1() #初期化\n",
        "\n",
        "\n",
        "\n",
        "df = df.with_row_count\n",
        "df[3:10]"
      ]
    },
    {
      "cell_type": "code",
      "execution_count": 36,
      "metadata": {
        "id": "-CsJyzjAfZSL",
        "colab": {
          "base_uri": "https://localhost:8080/",
          "height": 827
        },
        "outputId": "ca767df0-550b-486a-faee-3c454311829b"
      },
      "outputs": [
        {
          "output_type": "execute_result",
          "data": {
            "text/plain": [
              "shape: (1_309, 14)\n",
              "┌────────┬──────────┬────────────────────┬────────┬───┬──────────┬──────┬──────┬───────────────────┐\n",
              "│ pclass ┆ survived ┆ name               ┆ sex    ┆ … ┆ embarked ┆ boat ┆ body ┆ home.dest         │\n",
              "│ ---    ┆ ---      ┆ ---                ┆ ---    ┆   ┆ ---      ┆ ---  ┆ ---  ┆ ---               │\n",
              "│ i64    ┆ i64      ┆ str                ┆ str    ┆   ┆ str      ┆ str  ┆ i64  ┆ str               │\n",
              "╞════════╪══════════╪════════════════════╪════════╪═══╪══════════╪══════╪══════╪═══════════════════╡\n",
              "│ 1      ┆ 1        ┆ Allen, Miss.       ┆ female ┆ … ┆ S        ┆ 2    ┆ null ┆ St Louis, MO      │\n",
              "│        ┆          ┆ Elisabeth Walton   ┆        ┆   ┆          ┆      ┆      ┆                   │\n",
              "│ 1      ┆ 1        ┆ Allison, Master.   ┆ male   ┆ … ┆ S        ┆ 11   ┆ null ┆ Montreal, PQ /    │\n",
              "│        ┆          ┆ Hudson Trevor      ┆        ┆   ┆          ┆      ┆      ┆ Chesterville, O…  │\n",
              "│ 1      ┆ 0        ┆ Allison, Miss.     ┆ female ┆ … ┆ S        ┆ null ┆ null ┆ Montreal, PQ /    │\n",
              "│        ┆          ┆ Helen Loraine      ┆        ┆   ┆          ┆      ┆      ┆ Chesterville, O…  │\n",
              "│ 1      ┆ 0        ┆ Allison, Mr.       ┆ male   ┆ … ┆ S        ┆ null ┆ 135  ┆ Montreal, PQ /    │\n",
              "│        ┆          ┆ Hudson Joshua Cre… ┆        ┆   ┆          ┆      ┆      ┆ Chesterville, O…  │\n",
              "│ 1      ┆ 0        ┆ Allison, Mrs.      ┆ female ┆ … ┆ S        ┆ null ┆ null ┆ Montreal, PQ /    │\n",
              "│        ┆          ┆ Hudson J C (Bess…  ┆        ┆   ┆          ┆      ┆      ┆ Chesterville, O…  │\n",
              "│ …      ┆ …        ┆ …                  ┆ …      ┆ … ┆ …        ┆ …    ┆ …    ┆ …                 │\n",
              "│ 3      ┆ 0        ┆ Zabour, Miss.      ┆ female ┆ … ┆ C        ┆ null ┆ 328  ┆ null              │\n",
              "│        ┆          ┆ Hileni             ┆        ┆   ┆          ┆      ┆      ┆                   │\n",
              "│ 3      ┆ 0        ┆ Zabour, Miss.      ┆ female ┆ … ┆ C        ┆ null ┆ null ┆ null              │\n",
              "│        ┆          ┆ Thamine            ┆        ┆   ┆          ┆      ┆      ┆                   │\n",
              "│ 3      ┆ 0        ┆ Zakarian, Mr.      ┆ male   ┆ … ┆ C        ┆ null ┆ 304  ┆ null              │\n",
              "│        ┆          ┆ Mapriededer        ┆        ┆   ┆          ┆      ┆      ┆                   │\n",
              "│ 3      ┆ 0        ┆ Zakarian, Mr.      ┆ male   ┆ … ┆ C        ┆ null ┆ null ┆ null              │\n",
              "│        ┆          ┆ Ortin              ┆        ┆   ┆          ┆      ┆      ┆                   │\n",
              "│ 3      ┆ 0        ┆ Zimmerman, Mr. Leo ┆ male   ┆ … ┆ S        ┆ null ┆ null ┆ null              │\n",
              "└────────┴──────────┴────────────────────┴────────┴───┴──────────┴──────┴──────┴───────────────────┘"
            ],
            "text/html": [
              "<div><style>\n",
              ".dataframe > thead > tr,\n",
              ".dataframe > tbody > tr {\n",
              "  text-align: right;\n",
              "  white-space: pre-wrap;\n",
              "}\n",
              "</style>\n",
              "<small>shape: (1_309, 14)</small><table border=\"1\" class=\"dataframe\"><thead><tr><th>pclass</th><th>survived</th><th>name</th><th>sex</th><th>age</th><th>sibsp</th><th>parch</th><th>ticket</th><th>fare</th><th>cabin</th><th>embarked</th><th>boat</th><th>body</th><th>home.dest</th></tr><tr><td>i64</td><td>i64</td><td>str</td><td>str</td><td>f64</td><td>i64</td><td>i64</td><td>str</td><td>f64</td><td>str</td><td>str</td><td>str</td><td>i64</td><td>str</td></tr></thead><tbody><tr><td>1</td><td>1</td><td>&quot;Allen, Miss. Elisabeth Walton&quot;</td><td>&quot;female&quot;</td><td>29.0</td><td>0</td><td>0</td><td>&quot;24160&quot;</td><td>211.3375</td><td>&quot;B5&quot;</td><td>&quot;S&quot;</td><td>&quot;2&quot;</td><td>null</td><td>&quot;St Louis, MO&quot;</td></tr><tr><td>1</td><td>1</td><td>&quot;Allison, Master. Hudson Trevor&quot;</td><td>&quot;male&quot;</td><td>0.92</td><td>1</td><td>2</td><td>&quot;113781&quot;</td><td>151.55</td><td>&quot;C22 C26&quot;</td><td>&quot;S&quot;</td><td>&quot;11&quot;</td><td>null</td><td>&quot;Montreal, PQ / Chesterville, O…</td></tr><tr><td>1</td><td>0</td><td>&quot;Allison, Miss. Helen Loraine&quot;</td><td>&quot;female&quot;</td><td>2.0</td><td>1</td><td>2</td><td>&quot;113781&quot;</td><td>151.55</td><td>&quot;C22 C26&quot;</td><td>&quot;S&quot;</td><td>null</td><td>null</td><td>&quot;Montreal, PQ / Chesterville, O…</td></tr><tr><td>1</td><td>0</td><td>&quot;Allison, Mr. Hudson Joshua Cre…</td><td>&quot;male&quot;</td><td>30.0</td><td>1</td><td>2</td><td>&quot;113781&quot;</td><td>151.55</td><td>&quot;C22 C26&quot;</td><td>&quot;S&quot;</td><td>null</td><td>135</td><td>&quot;Montreal, PQ / Chesterville, O…</td></tr><tr><td>1</td><td>0</td><td>&quot;Allison, Mrs. Hudson J C (Bess…</td><td>&quot;female&quot;</td><td>25.0</td><td>1</td><td>2</td><td>&quot;113781&quot;</td><td>151.55</td><td>&quot;C22 C26&quot;</td><td>&quot;S&quot;</td><td>null</td><td>null</td><td>&quot;Montreal, PQ / Chesterville, O…</td></tr><tr><td>&hellip;</td><td>&hellip;</td><td>&hellip;</td><td>&hellip;</td><td>&hellip;</td><td>&hellip;</td><td>&hellip;</td><td>&hellip;</td><td>&hellip;</td><td>&hellip;</td><td>&hellip;</td><td>&hellip;</td><td>&hellip;</td><td>&hellip;</td></tr><tr><td>3</td><td>0</td><td>&quot;Zabour, Miss. Hileni&quot;</td><td>&quot;female&quot;</td><td>14.5</td><td>1</td><td>0</td><td>&quot;2665&quot;</td><td>14.4542</td><td>null</td><td>&quot;C&quot;</td><td>null</td><td>328</td><td>null</td></tr><tr><td>3</td><td>0</td><td>&quot;Zabour, Miss. Thamine&quot;</td><td>&quot;female&quot;</td><td>null</td><td>1</td><td>0</td><td>&quot;2665&quot;</td><td>14.4542</td><td>null</td><td>&quot;C&quot;</td><td>null</td><td>null</td><td>null</td></tr><tr><td>3</td><td>0</td><td>&quot;Zakarian, Mr. Mapriededer&quot;</td><td>&quot;male&quot;</td><td>26.5</td><td>0</td><td>0</td><td>&quot;2656&quot;</td><td>7.225</td><td>null</td><td>&quot;C&quot;</td><td>null</td><td>304</td><td>null</td></tr><tr><td>3</td><td>0</td><td>&quot;Zakarian, Mr. Ortin&quot;</td><td>&quot;male&quot;</td><td>27.0</td><td>0</td><td>0</td><td>&quot;2670&quot;</td><td>7.225</td><td>null</td><td>&quot;C&quot;</td><td>null</td><td>null</td><td>null</td></tr><tr><td>3</td><td>0</td><td>&quot;Zimmerman, Mr. Leo&quot;</td><td>&quot;male&quot;</td><td>29.0</td><td>0</td><td>0</td><td>&quot;315082&quot;</td><td>7.875</td><td>null</td><td>&quot;S&quot;</td><td>null</td><td>null</td><td>null</td></tr></tbody></table></div>"
            ]
          },
          "metadata": {},
          "execution_count": 36
        }
      ],
      "source": [
        "# 【23】\n",
        "# selectを使ってdf全体を表示\n",
        "#print(ans[23]) #解答表示\n",
        "df = initialize1() #初期化\n",
        "\n",
        "\n",
        "\n",
        "df.select(pl.all())"
      ]
    },
    {
      "cell_type": "code",
      "execution_count": 37,
      "metadata": {
        "id": "WqctG-0TfZSP",
        "colab": {
          "base_uri": "https://localhost:8080/",
          "height": 255
        },
        "outputId": "fd24c544-f9d3-43c0-effd-01a7b5a7a299"
      },
      "outputs": [
        {
          "output_type": "execute_result",
          "data": {
            "text/plain": [
              "shape: (5, 8)\n",
              "┌─────────────────────────────────┬────────┬──────┬───────┬───────┬────────┬──────────┬─────────┐\n",
              "│ name                            ┆ sex    ┆ age  ┆ sibsp ┆ parch ┆ ticket ┆ fare     ┆ cabin   │\n",
              "│ ---                             ┆ ---    ┆ ---  ┆ ---   ┆ ---   ┆ ---    ┆ ---      ┆ ---     │\n",
              "│ str                             ┆ str    ┆ f64  ┆ i64   ┆ i64   ┆ str    ┆ f64      ┆ str     │\n",
              "╞═════════════════════════════════╪════════╪══════╪═══════╪═══════╪════════╪══════════╪═════════╡\n",
              "│ Allen, Miss. Elisabeth Walton   ┆ female ┆ 29.0 ┆ 0     ┆ 0     ┆ 24160  ┆ 211.3375 ┆ B5      │\n",
              "│ Allison, Master. Hudson Trevor  ┆ male   ┆ 0.92 ┆ 1     ┆ 2     ┆ 113781 ┆ 151.55   ┆ C22 C26 │\n",
              "│ Allison, Miss. Helen Loraine    ┆ female ┆ 2.0  ┆ 1     ┆ 2     ┆ 113781 ┆ 151.55   ┆ C22 C26 │\n",
              "│ Allison, Mr. Hudson Joshua Cre… ┆ male   ┆ 30.0 ┆ 1     ┆ 2     ┆ 113781 ┆ 151.55   ┆ C22 C26 │\n",
              "│ Allison, Mrs. Hudson J C (Bess… ┆ female ┆ 25.0 ┆ 1     ┆ 2     ┆ 113781 ┆ 151.55   ┆ C22 C26 │\n",
              "└─────────────────────────────────┴────────┴──────┴───────┴───────┴────────┴──────────┴─────────┘"
            ],
            "text/html": [
              "<div><style>\n",
              ".dataframe > thead > tr,\n",
              ".dataframe > tbody > tr {\n",
              "  text-align: right;\n",
              "  white-space: pre-wrap;\n",
              "}\n",
              "</style>\n",
              "<small>shape: (5, 8)</small><table border=\"1\" class=\"dataframe\"><thead><tr><th>name</th><th>sex</th><th>age</th><th>sibsp</th><th>parch</th><th>ticket</th><th>fare</th><th>cabin</th></tr><tr><td>str</td><td>str</td><td>f64</td><td>i64</td><td>i64</td><td>str</td><td>f64</td><td>str</td></tr></thead><tbody><tr><td>&quot;Allen, Miss. Elisabeth Walton&quot;</td><td>&quot;female&quot;</td><td>29.0</td><td>0</td><td>0</td><td>&quot;24160&quot;</td><td>211.3375</td><td>&quot;B5&quot;</td></tr><tr><td>&quot;Allison, Master. Hudson Trevor&quot;</td><td>&quot;male&quot;</td><td>0.92</td><td>1</td><td>2</td><td>&quot;113781&quot;</td><td>151.55</td><td>&quot;C22 C26&quot;</td></tr><tr><td>&quot;Allison, Miss. Helen Loraine&quot;</td><td>&quot;female&quot;</td><td>2.0</td><td>1</td><td>2</td><td>&quot;113781&quot;</td><td>151.55</td><td>&quot;C22 C26&quot;</td></tr><tr><td>&quot;Allison, Mr. Hudson Joshua Cre…</td><td>&quot;male&quot;</td><td>30.0</td><td>1</td><td>2</td><td>&quot;113781&quot;</td><td>151.55</td><td>&quot;C22 C26&quot;</td></tr><tr><td>&quot;Allison, Mrs. Hudson J C (Bess…</td><td>&quot;female&quot;</td><td>25.0</td><td>1</td><td>2</td><td>&quot;113781&quot;</td><td>151.55</td><td>&quot;C22 C26&quot;</td></tr></tbody></table></div>"
            ]
          },
          "metadata": {},
          "execution_count": 37
        }
      ],
      "source": [
        "# 【24】\n",
        "# dfのnameからcabinまでの列を5行目まで表示\n",
        "#print(ans[24]) #解答表示\n",
        "df = initialize1() #初期化\n",
        "\n",
        "\n",
        "\n",
        "df.select(df.columns[2:10])[:5]"
      ]
    },
    {
      "cell_type": "code",
      "execution_count": 38,
      "metadata": {
        "id": "Rb9suwf_fZSQ"
      },
      "outputs": [],
      "source": [
        "# 【25】\n",
        "# dfのname,age,sexの列のみ抽出しdf_copyに格納\n",
        "# その後outputフォルダにcsvファイルで出力\n",
        "# 出力ファイル名はsample.csv\n",
        "#print(ans[25]) #解答表示\n",
        "df = initialize1() #初期化\n",
        "\n",
        "\n",
        "\n",
        "df_copy = df.select(['name', 'age', 'sex'])\n",
        "df_copy.write_csv('../output/sample.csv')"
      ]
    },
    {
      "cell_type": "code",
      "execution_count": null,
      "metadata": {
        "id": "GFkMmbWufZSR"
      },
      "outputs": [],
      "source": [
        "# 【26】\n",
        "# dfのage列の値が30以上のデータのみ抽出\n",
        "#print(ans[26]) #解答表示\n",
        "df = initialize1() #初期化\n",
        "\n",
        "\n",
        "\n"
      ]
    },
    {
      "cell_type": "code",
      "execution_count": null,
      "metadata": {
        "id": "5oSWgATafZSS"
      },
      "outputs": [],
      "source": [
        "# 【27】\n",
        "# dfのsex列がfemaleのデータのみ抽出\n",
        "#print(ans[27]) #解答表示\n",
        "df = initialize1() #初期化\n",
        "\n",
        "\n",
        "\n"
      ]
    },
    {
      "cell_type": "code",
      "execution_count": null,
      "metadata": {
        "id": "a-6HszvpfZST"
      },
      "outputs": [],
      "source": [
        "# 【28】\n",
        "# dfのsex列がfemaleでかつageが40以上のデータのみ抽出\n",
        "#print(ans[28]) #解答表示\n",
        "df = initialize1() #初期化\n",
        "\n",
        "\n",
        "\n"
      ]
    },
    {
      "cell_type": "code",
      "execution_count": null,
      "metadata": {
        "id": "UMbT3trkfZST"
      },
      "outputs": [],
      "source": [
        "# 【29】\n",
        "# dfのsex列がfemaleでかつageが40以上のデータを\n",
        "# 等号、不等号を使わずに抽出\n",
        "#print(ans[29]) #解答表示\n",
        "df = initialize1() #初期化\n",
        "\n",
        "\n",
        "\n"
      ]
    },
    {
      "cell_type": "code",
      "execution_count": null,
      "metadata": {
        "id": "FxvKSHCEfZSV"
      },
      "outputs": [],
      "source": [
        "# 【30】\n",
        "# dfのcabin列がnullでないデータを抽出\n",
        "#print(ans[30]) #解答表示\n",
        "df = initialize1() #初期化\n",
        "\n",
        "\n",
        "\n"
      ]
    },
    {
      "cell_type": "code",
      "execution_count": null,
      "metadata": {
        "id": "WUTJwquSfZSW"
      },
      "outputs": [],
      "source": [
        "# 【31】\n",
        "# dfのage列が10以上、40以下のデータを\n",
        "# 等号、不等号を使わずに抽出\n",
        "#print(ans[31]) #解答表示\n",
        "df = initialize1() #初期化\n",
        "\n",
        "\n"
      ]
    },
    {
      "cell_type": "code",
      "execution_count": null,
      "metadata": {
        "id": "xH0czw6ffZSW"
      },
      "outputs": [],
      "source": [
        "# 【32】\n",
        "# dfのname列に文字列「Mrs」が含まれるデータを表示\n",
        "#print(ans[32]) #解答表示\n",
        "df = initialize1() #初期化\n",
        "\n",
        "\n",
        "\n"
      ]
    },
    {
      "cell_type": "code",
      "execution_count": null,
      "metadata": {
        "id": "H2gko6-FfZSX"
      },
      "outputs": [],
      "source": [
        "# 【33】\n",
        "# dfの中で文字列型の列のみを表示\n",
        "#print(ans[33]) #解答表示\n",
        "df = initialize1() #初期化\n",
        "\n",
        "\n",
        "\n"
      ]
    },
    {
      "cell_type": "code",
      "execution_count": null,
      "metadata": {
        "id": "xIZBD_vSfZSX"
      },
      "outputs": [],
      "source": [
        "# 【34】\n",
        "# dfの各列の要素数の確認\n",
        "#print(ans[34]) #解答表示\n",
        "df = initialize1() #初期化\n",
        "\n",
        "\n",
        "\n"
      ]
    },
    {
      "cell_type": "code",
      "execution_count": null,
      "metadata": {
        "id": "lYVNQ9F-fZSY"
      },
      "outputs": [],
      "source": [
        "# 【35】\n",
        "# dfのembarked列の要素と出現回数の確認\n",
        "#print(ans[35]) #解答表示\n",
        "df = initialize1() #初期化\n",
        "\n",
        "\n",
        "\n"
      ]
    },
    {
      "cell_type": "code",
      "execution_count": null,
      "metadata": {
        "scrolled": true,
        "id": "zXcWO_CdfZSY"
      },
      "outputs": [],
      "source": [
        "# 【36】\n",
        "# dfのすべての列の要素と出現回数の確認\n",
        "#print(ans[36]) #解答表示\n",
        "df = initialize1() #初期化\n",
        "\n",
        "\n",
        "\n"
      ]
    },
    {
      "cell_type": "markdown",
      "metadata": {
        "id": "aESo4oPpfZSZ"
      },
      "source": [
        "# データ加工 (37 - 64)"
      ]
    },
    {
      "cell_type": "code",
      "execution_count": 117,
      "metadata": {
        "id": "O-pW3VDlfZSZ",
        "colab": {
          "base_uri": "https://localhost:8080/",
          "height": 606
        },
        "outputId": "21e8c476-0929-4177-c07c-1e810980e70b"
      },
      "outputs": [
        {
          "output_type": "stream",
          "name": "stderr",
          "text": [
            "<ipython-input-117-1cb52568ff11>:10: DeprecationWarning: `DataFrame.with_row_count` is deprecated. Use `with_row_index` instead. Note that the default column name has changed from 'row_nr' to 'index'.\n",
            "  df = df.with_row_count().with_columns(pl.when(pl.col('row_nr')==3).then(40).otherwise(pl.col('age')).alias('age'))\n"
          ]
        },
        {
          "output_type": "execute_result",
          "data": {
            "text/plain": [
              "shape: (5, 15)\n",
              "┌────────┬────────┬──────────┬────────────────────┬───┬──────────┬──────┬──────┬───────────────────┐\n",
              "│ row_nr ┆ pclass ┆ survived ┆ name               ┆ … ┆ embarked ┆ boat ┆ body ┆ home.dest         │\n",
              "│ ---    ┆ ---    ┆ ---      ┆ ---                ┆   ┆ ---      ┆ ---  ┆ ---  ┆ ---               │\n",
              "│ u32    ┆ i64    ┆ i64      ┆ str                ┆   ┆ str      ┆ str  ┆ i64  ┆ str               │\n",
              "╞════════╪════════╪══════════╪════════════════════╪═══╪══════════╪══════╪══════╪═══════════════════╡\n",
              "│ 0      ┆ 1      ┆ 1        ┆ Allen, Miss.       ┆ … ┆ S        ┆ 2    ┆ null ┆ St Louis, MO      │\n",
              "│        ┆        ┆          ┆ Elisabeth Walton   ┆   ┆          ┆      ┆      ┆                   │\n",
              "│ 1      ┆ 1      ┆ 1        ┆ Allison, Master.   ┆ … ┆ S        ┆ 11   ┆ null ┆ Montreal, PQ /    │\n",
              "│        ┆        ┆          ┆ Hudson Trevor      ┆   ┆          ┆      ┆      ┆ Chesterville, O…  │\n",
              "│ 2      ┆ 1      ┆ 0        ┆ Allison, Miss.     ┆ … ┆ S        ┆ null ┆ null ┆ Montreal, PQ /    │\n",
              "│        ┆        ┆          ┆ Helen Loraine      ┆   ┆          ┆      ┆      ┆ Chesterville, O…  │\n",
              "│ 3      ┆ 1      ┆ 0        ┆ Allison, Mr.       ┆ … ┆ S        ┆ null ┆ 135  ┆ Montreal, PQ /    │\n",
              "│        ┆        ┆          ┆ Hudson Joshua Cre… ┆   ┆          ┆      ┆      ┆ Chesterville, O…  │\n",
              "│ 4      ┆ 1      ┆ 0        ┆ Allison, Mrs.      ┆ … ┆ S        ┆ null ┆ null ┆ Montreal, PQ /    │\n",
              "│        ┆        ┆          ┆ Hudson J C (Bess…  ┆   ┆          ┆      ┆      ┆ Chesterville, O…  │\n",
              "└────────┴────────┴──────────┴────────────────────┴───┴──────────┴──────┴──────┴───────────────────┘"
            ],
            "text/html": [
              "<div><style>\n",
              ".dataframe > thead > tr,\n",
              ".dataframe > tbody > tr {\n",
              "  text-align: right;\n",
              "  white-space: pre-wrap;\n",
              "}\n",
              "</style>\n",
              "<small>shape: (5, 15)</small><table border=\"1\" class=\"dataframe\"><thead><tr><th>row_nr</th><th>pclass</th><th>survived</th><th>name</th><th>sex</th><th>age</th><th>sibsp</th><th>parch</th><th>ticket</th><th>fare</th><th>cabin</th><th>embarked</th><th>boat</th><th>body</th><th>home.dest</th></tr><tr><td>u32</td><td>i64</td><td>i64</td><td>str</td><td>str</td><td>f64</td><td>i64</td><td>i64</td><td>str</td><td>f64</td><td>str</td><td>str</td><td>str</td><td>i64</td><td>str</td></tr></thead><tbody><tr><td>0</td><td>1</td><td>1</td><td>&quot;Allen, Miss. Elisabeth Walton&quot;</td><td>&quot;female&quot;</td><td>29.0</td><td>0</td><td>0</td><td>&quot;24160&quot;</td><td>211.3375</td><td>&quot;B5&quot;</td><td>&quot;S&quot;</td><td>&quot;2&quot;</td><td>null</td><td>&quot;St Louis, MO&quot;</td></tr><tr><td>1</td><td>1</td><td>1</td><td>&quot;Allison, Master. Hudson Trevor&quot;</td><td>&quot;male&quot;</td><td>0.92</td><td>1</td><td>2</td><td>&quot;113781&quot;</td><td>151.55</td><td>&quot;C22 C26&quot;</td><td>&quot;S&quot;</td><td>&quot;11&quot;</td><td>null</td><td>&quot;Montreal, PQ / Chesterville, O…</td></tr><tr><td>2</td><td>1</td><td>0</td><td>&quot;Allison, Miss. Helen Loraine&quot;</td><td>&quot;female&quot;</td><td>2.0</td><td>1</td><td>2</td><td>&quot;113781&quot;</td><td>151.55</td><td>&quot;C22 C26&quot;</td><td>&quot;S&quot;</td><td>null</td><td>null</td><td>&quot;Montreal, PQ / Chesterville, O…</td></tr><tr><td>3</td><td>1</td><td>0</td><td>&quot;Allison, Mr. Hudson Joshua Cre…</td><td>&quot;male&quot;</td><td>40.0</td><td>1</td><td>2</td><td>&quot;113781&quot;</td><td>151.55</td><td>&quot;C22 C26&quot;</td><td>&quot;S&quot;</td><td>null</td><td>135</td><td>&quot;Montreal, PQ / Chesterville, O…</td></tr><tr><td>4</td><td>1</td><td>0</td><td>&quot;Allison, Mrs. Hudson J C (Bess…</td><td>&quot;female&quot;</td><td>25.0</td><td>1</td><td>2</td><td>&quot;113781&quot;</td><td>151.55</td><td>&quot;C22 C26&quot;</td><td>&quot;S&quot;</td><td>null</td><td>null</td><td>&quot;Montreal, PQ / Chesterville, O…</td></tr></tbody></table></div>"
            ]
          },
          "metadata": {},
          "execution_count": 117
        }
      ],
      "source": [
        "# 【37】\n",
        "# dfに with_row_count()でインデックスを振り\n",
        "# row_nr列が「3」のage列を30から40に変更し、\n",
        "# 先頭の5行を表示\n",
        "#print(ans[37]) #解答表示\n",
        "df = initialize1() #初期化\n",
        "\n",
        "\n",
        "\n",
        "df = df.with_row_count().with_columns(pl.when(pl.col('row_nr')==3).then(40).otherwise(pl.col('age')).alias('age'))\n",
        "df.head()"
      ]
    },
    {
      "cell_type": "code",
      "execution_count": 2,
      "metadata": {
        "id": "7QcwFQIJfZSZ",
        "colab": {
          "base_uri": "https://localhost:8080/",
          "height": 217
        },
        "outputId": "6bbe4e1d-cadb-4307-bcfc-f02b75a78e29"
      },
      "outputs": [
        {
          "output_type": "error",
          "ename": "NameError",
          "evalue": "name 'initialize1' is not defined",
          "traceback": [
            "\u001b[0;31m---------------------------------------------------------------------------\u001b[0m",
            "\u001b[0;31mNameError\u001b[0m                                 Traceback (most recent call last)",
            "\u001b[0;32m<ipython-input-2-8655f3ec3e3b>\u001b[0m in \u001b[0;36m<cell line: 0>\u001b[0;34m()\u001b[0m\n\u001b[1;32m      3\u001b[0m \u001b[0;31m# 変更し、先頭の5行を表示\u001b[0m\u001b[0;34m\u001b[0m\u001b[0;34m\u001b[0m\u001b[0m\n\u001b[1;32m      4\u001b[0m \u001b[0;31m#print(ans[38]) #解答表示\u001b[0m\u001b[0;34m\u001b[0m\u001b[0;34m\u001b[0m\u001b[0m\n\u001b[0;32m----> 5\u001b[0;31m \u001b[0mdf\u001b[0m \u001b[0;34m=\u001b[0m \u001b[0minitialize1\u001b[0m\u001b[0;34m(\u001b[0m\u001b[0;34m)\u001b[0m \u001b[0;31m#初期化\u001b[0m\u001b[0;34m\u001b[0m\u001b[0;34m\u001b[0m\u001b[0m\n\u001b[0m\u001b[1;32m      6\u001b[0m \u001b[0;34m\u001b[0m\u001b[0m\n\u001b[1;32m      7\u001b[0m \u001b[0;34m\u001b[0m\u001b[0m\n",
            "\u001b[0;31mNameError\u001b[0m: name 'initialize1' is not defined"
          ]
        }
      ],
      "source": [
        "# 【38】\n",
        "# dfのsex列にてmale→0、female→1に\n",
        "# 変更し、先頭の5行を表示\n",
        "#print(ans[38]) #解答表示\n",
        "df = initialize1() #初期化\n",
        "\n",
        "\n",
        "\n",
        "df = df.with_column(pl.when(pl.col('sex')=='male').then(0)\n",
        "                       .when(pl.col('sex')=='female').then(1)\n",
        "                       .otherwise(pl.col('sex')).cast(pl.Int64).alias('sex')\n",
        "                       )\n",
        "df.head()"
      ]
    },
    {
      "cell_type": "code",
      "execution_count": null,
      "metadata": {
        "scrolled": true,
        "id": "GUcor6GEfZSi"
      },
      "outputs": [],
      "source": [
        "# 【39】\n",
        "# dfのfare列に100を足して、\n",
        "# 先頭の5行を表示\n",
        "#print(ans[39]) #解答表示\n",
        "df = initialize1() #初期化\n",
        "\n",
        "\n",
        "\n"
      ]
    },
    {
      "cell_type": "code",
      "execution_count": null,
      "metadata": {
        "id": "5Rv7INU2fZSj"
      },
      "outputs": [],
      "source": [
        "# 【40】\n",
        "# dfのfare列に2を掛けて、\n",
        "# 先頭の5行を表示\n",
        "#print(ans[40]) #解答表示\n",
        "df = initialize1() #初期化\n",
        "\n",
        "\n",
        "\n"
      ]
    },
    {
      "cell_type": "code",
      "execution_count": null,
      "metadata": {
        "id": "9C2sZKVcfZSj"
      },
      "outputs": [],
      "source": [
        "# 【41】\n",
        "# dfのfare列に2を掛けて、\n",
        "# age列に3を足して\n",
        "# 先頭の5行を表示\n",
        "#print(ans[41]) #解答表示\n",
        "df = initialize1() #初期化\n",
        "\n",
        "\n",
        "\n"
      ]
    },
    {
      "cell_type": "code",
      "execution_count": null,
      "metadata": {
        "id": "9qc3TqU8fZSj"
      },
      "outputs": [],
      "source": [
        "# 【42】\n",
        "# applyを用いてdfのparch列に2を掛けて、\n",
        "# sibsp列に1を足して\n",
        "# 先頭の5行を表示\n",
        "#print(ans[42]) #解答表示\n",
        "df = initialize1() #初期化\n",
        "\n",
        "\n",
        "\n"
      ]
    },
    {
      "cell_type": "code",
      "execution_count": null,
      "metadata": {
        "id": "8VMEqZeufZSk"
      },
      "outputs": [],
      "source": [
        "# 【43】\n",
        "# dfのfare列を小数点以下で丸めて、先頭の5行を表示\n",
        "#print(ans[43]) #解答表示\n",
        "df = initialize1() #初期化\n",
        "\n",
        "\n",
        "\n"
      ]
    },
    {
      "cell_type": "code",
      "execution_count": null,
      "metadata": {
        "id": "KMsJF7azfZSl"
      },
      "outputs": [],
      "source": [
        "# 【44】\n",
        "# dfに列名「test」で値がすべて1の\n",
        "# カラムを追加し、先頭の5行を表示\n",
        "#print(ans[44]) #解答表示\n",
        "df = initialize1() #初期化\n",
        "\n",
        "\n",
        "\n"
      ]
    },
    {
      "cell_type": "code",
      "execution_count": null,
      "metadata": {
        "id": "jVLGzSiOfZSl"
      },
      "outputs": [],
      "source": [
        "# 【45】\n",
        "# dfに列名「test」で値がすべて1の\n",
        "# カラムと列名「test2」で値がすべてnullの\n",
        "# カラムを追加し、先頭の5行を表示\n",
        "#print(ans[45]) #解答表示\n",
        "df = initialize1() #初期化\n",
        "\n",
        "\n",
        "\n"
      ]
    },
    {
      "cell_type": "code",
      "execution_count": null,
      "metadata": {
        "id": "3QJge5_jfZSl"
      },
      "outputs": [],
      "source": [
        "# 【46】\n",
        "# dfにcabinとembarkedの列を「_」で\n",
        "# 結合した列を追加(列名は「test」)し、\n",
        "# 先頭の5行を表示\n",
        "#print(ans[46]) #解答表示\n",
        "df = initialize1() #初期化\n",
        "\n",
        "\n",
        "\n"
      ]
    },
    {
      "cell_type": "code",
      "execution_count": null,
      "metadata": {
        "id": "7uIBmEC2fZSm"
      },
      "outputs": [],
      "source": [
        "# 【47】\n",
        "# dfにageとembarkedの列を「_」で\n",
        "# 結合した列を追加(列名は「test」)し、\n",
        "# 先頭の5行を表示\n",
        "#print(ans[47]) #解答表示\n",
        "df = initialize1() #初期化\n",
        "\n",
        "\n",
        "\n"
      ]
    },
    {
      "cell_type": "code",
      "execution_count": null,
      "metadata": {
        "id": "3gDb0TpjfZSm"
      },
      "outputs": [],
      "source": [
        "# 【48】\n",
        "# dfにageとembarkedの列をconcat_strを用いて\n",
        "# 「_」で結合した列を追加(列名は「test」)し、\n",
        "# 先頭の5行を表示\n",
        "#print(ans[48]) #解答表示\n",
        "df = initialize1() #初期化\n",
        "\n",
        "\n",
        "\n"
      ]
    },
    {
      "cell_type": "code",
      "execution_count": null,
      "metadata": {
        "id": "_By6HHIbfZSn"
      },
      "outputs": [],
      "source": [
        "# 【49】\n",
        "# dfからbodyの列を削除し、最初の5行を表示\n",
        "#print(ans[49]) #解答表示\n",
        "df = initialize1() #初期化\n",
        "\n",
        "\n",
        "\n"
      ]
    },
    {
      "cell_type": "code",
      "execution_count": null,
      "metadata": {
        "id": "MMsAlJcrfZSn"
      },
      "outputs": [],
      "source": [
        "# 【50】\n",
        "# dfに with_row_count()でインデックスを振り\n",
        "# row_nr列が「3」の行を削除し、最初の5行を表示\n",
        "#print(ans[50]) #解答表示\n",
        "df = initialize1() #初期化\n",
        "\n",
        "\n",
        "\n"
      ]
    },
    {
      "cell_type": "code",
      "execution_count": null,
      "metadata": {
        "id": "Lcz-DwrbfZSn"
      },
      "outputs": [],
      "source": [
        "# 【51】\n",
        "# df2の列名を'name', 'class', 'Biology', 'Physics', 'Chemistry'に変更\n",
        "# df2の最初の5行を表示\n",
        "#print(ans[51]) #解答表示\n",
        "df2 = initialize2() #初期化\n",
        "\n",
        "\n",
        "\n"
      ]
    },
    {
      "cell_type": "code",
      "execution_count": null,
      "metadata": {
        "id": "3jmcFu6cfZSo"
      },
      "outputs": [],
      "source": [
        "# 【52】\n",
        "# df2の列名を'English'をBiology'に変更\n",
        "# df2の最初の5行を表示\n",
        "#print(ans[52]) #解答表示\n",
        "df2 = initialize2() #初期化\n",
        "\n",
        "\n",
        "\n"
      ]
    },
    {
      "cell_type": "code",
      "execution_count": null,
      "metadata": {
        "id": "q4TyU-ndfZSo"
      },
      "outputs": [],
      "source": [
        "# 【53】\n",
        "# dfのすべての列の欠損値数を確認\n",
        "#print(ans[53]) #解答表示\n",
        "df = initialize1() #初期化\n",
        "\n",
        "\n",
        "\n"
      ]
    },
    {
      "cell_type": "code",
      "execution_count": null,
      "metadata": {
        "id": "zEimZwmmfZSr"
      },
      "outputs": [],
      "source": [
        "# 【54】\n",
        "# dfのage列の欠損値に30を代入\n",
        "# その後、ageの欠損値数を確認\n",
        "#print(ans[54]) #解答表示\n",
        "df = initialize1() #初期化\n",
        "\n",
        "\n",
        "\n"
      ]
    },
    {
      "cell_type": "code",
      "execution_count": null,
      "metadata": {
        "id": "NVaJGMFKfZSr"
      },
      "outputs": [],
      "source": [
        "# 【55】\n",
        "# dfでひとつでも欠損値がある行を削除\n",
        "# その後、dfの欠損値数を確認\n",
        "#print(ans[55]) #解答表示\n",
        "df = initialize1() #初期化\n",
        "\n",
        "\n",
        "\n"
      ]
    },
    {
      "cell_type": "code",
      "execution_count": null,
      "metadata": {
        "id": "TpKmO7FPfZSs"
      },
      "outputs": [],
      "source": [
        "# 【56】\n",
        "# dfのsurvivedの列をndarray形式(配列)で表示\n",
        "#print(ans[56]) #解答表示\n",
        "df = initialize1() #初期化\n",
        "\n",
        "\n",
        "\n"
      ]
    },
    {
      "cell_type": "code",
      "execution_count": null,
      "metadata": {
        "id": "li3jagMkfZSv"
      },
      "outputs": [],
      "source": [
        "# 【57】\n",
        "# dfの行をシャッフルし、\n",
        "# dfの最初の5行を表示\n",
        "#print(ans[57]) #解答表示\n",
        "df = initialize1() #初期化\n",
        "\n",
        "\n",
        "\n"
      ]
    },
    {
      "cell_type": "code",
      "execution_count": null,
      "metadata": {
        "id": "DS1V3-p0fZSy"
      },
      "outputs": [],
      "source": [
        "# 【58】\n",
        "# ①df2の重複行数をカウント\n",
        "# ②df2の重複行を削除し、df2を表示\n",
        "#print(ans[58]) #解答表示\n",
        "df2 = initialize2() #初期化\n",
        "\n",
        "\n",
        "\n"
      ]
    },
    {
      "cell_type": "code",
      "execution_count": null,
      "metadata": {
        "id": "rIJTlCD6fZSz"
      },
      "outputs": [],
      "source": [
        "# 【59】\n",
        "# dfのnameの列をすべて大文字に変換し表示\n",
        "#print(ans[59]) #解答表示\n",
        "df = initialize1() #初期化\n",
        "\n",
        "\n",
        "\n"
      ]
    },
    {
      "cell_type": "code",
      "execution_count": null,
      "metadata": {
        "id": "fAXZflwAfZSz"
      },
      "outputs": [],
      "source": [
        "# 【60】\n",
        "# dfのnameの列をすべて小文字に変換し表示\n",
        "#print(ans[60]) #解答表示\n",
        "df = initialize1() #初期化\n",
        "\n",
        "\n",
        "\n"
      ]
    },
    {
      "cell_type": "code",
      "execution_count": null,
      "metadata": {
        "id": "N43yS0WsfZS1"
      },
      "outputs": [],
      "source": [
        "# 【61】\n",
        "# dfのsex列に含まれる「female」という単語を\n",
        "# 「Python」に置換。その後、1行目の\n",
        "# 「female」が「Python」に置き換わったことを確認\n",
        "#print(ans[61]) #解答表示\n",
        "df = initialize1() #初期化\n",
        "\n",
        "\n",
        "\n"
      ]
    },
    {
      "cell_type": "code",
      "execution_count": null,
      "metadata": {
        "id": "eXh5jJaFfZS2"
      },
      "outputs": [],
      "source": [
        "# 【62】\n",
        "# dfのname列1行目の「Allen, Miss. Elisabeth Walton」の\n",
        "# 「Elisabeth」を消去(import reをインポート)\n",
        "#print(ans[62]) #解答表示\n",
        "df = initialize1() #初期化\n",
        "\n",
        "\n",
        "\n"
      ]
    },
    {
      "cell_type": "code",
      "execution_count": null,
      "metadata": {
        "id": "JHBvnABYfZS3"
      },
      "outputs": [],
      "source": [
        "# 【63】\n",
        "# df5の都道府県列と市区町村列を空白がないように\n",
        "# 「_」で結合(新規列名は「test2」)し、先頭5行を表示\n",
        "# ※df5の「test」列は通常通り結合した場合の結果\n",
        "#print(ans[63]) #解答表示\n",
        "df5 = initialize5() #初期化\n",
        "\n",
        "\n",
        "\n"
      ]
    },
    {
      "cell_type": "code",
      "execution_count": null,
      "metadata": {
        "id": "VU3rMQkRfZS4"
      },
      "outputs": [],
      "source": [
        "# 【64】\n",
        "# df2の行と列を入れ替えて表示\n",
        "#print(ans[64]) #解答表示\n",
        "df2 = initialize2() #初期化\n",
        "\n",
        "\n",
        "\n"
      ]
    },
    {
      "cell_type": "markdown",
      "metadata": {
        "id": "5kGB47sLfZS4"
      },
      "source": [
        "# マージと連結(65 - 73)"
      ]
    },
    {
      "cell_type": "code",
      "execution_count": null,
      "metadata": {
        "id": "v7ztrn6vfZS4"
      },
      "outputs": [],
      "source": [
        "# 【65】\n",
        "# df2にdf3を左結合（結合キーはname）し、df2に格納\n",
        "#print(ans[65]) #解答表示\n",
        "df2 = initialize2() #初期化\n",
        "\n",
        "\n",
        "\n"
      ]
    },
    {
      "cell_type": "code",
      "execution_count": null,
      "metadata": {
        "id": "93FQkg31fZS5"
      },
      "outputs": [],
      "source": [
        "# 【66】\n",
        "# df2にdf3を右結合（結合キーはname）し、df2に格納\n",
        "#print(ans[66]) #解答表示\n",
        "df2 = initialize2() #初期化\n",
        "\n",
        "\n",
        "\n"
      ]
    },
    {
      "cell_type": "code",
      "execution_count": null,
      "metadata": {
        "id": "-01lRfqHfZS6"
      },
      "outputs": [],
      "source": [
        "# 【67】\n",
        "# df2にdf3を内部結合（結合キーはname）し、df2に格納\n",
        "#print(ans[67]) #解答表示\n",
        "df2 = initialize2() #初期化\n",
        "\n",
        "\n",
        "\n"
      ]
    },
    {
      "cell_type": "code",
      "execution_count": null,
      "metadata": {
        "id": "aty0ynvQfZS8"
      },
      "outputs": [],
      "source": [
        "# 【68】\n",
        "# df2にdf3を外部結合し、df2に格納\n",
        "#print(ans[68]) #解答表示\n",
        "df2 = initialize2() #初期化\n",
        "\n",
        "\n",
        "\n"
      ]
    },
    {
      "cell_type": "code",
      "execution_count": null,
      "metadata": {
        "id": "wtYLYL4NfZS8"
      },
      "outputs": [],
      "source": [
        "# 【69】\n",
        "# df2にdf3を、df3にのみ存在するデータのみを残してて結合\n",
        "#print(ans[69]) #解答表示\n",
        "df2 = initialize2() #初期化\n",
        "\n",
        "\n",
        "\n"
      ]
    },
    {
      "cell_type": "code",
      "execution_count": null,
      "metadata": {
        "id": "E7HCzCxifZS9"
      },
      "outputs": [],
      "source": [
        "# 【70】\n",
        "# df2にdf3を、df3に存在しないデータを残してて結合\n",
        "#print(ans[70]) #解答表示\n",
        "df2 = initialize2() #初期化\n",
        "\n",
        "\n",
        "\n"
      ]
    },
    {
      "cell_type": "code",
      "execution_count": null,
      "metadata": {
        "id": "0xiJUjSsfZS9"
      },
      "outputs": [],
      "source": [
        "# 【71】\n",
        "# df2とdf3のそれぞれの行を全通り組み合わせた\n",
        "# dataframeを作成\n",
        "#print(ans[71]) #解答表示\n",
        "df2 = initialize2() #初期化\n",
        "\n",
        "\n",
        "\n"
      ]
    },
    {
      "cell_type": "code",
      "execution_count": null,
      "metadata": {
        "id": "yQgXClzEfZS-"
      },
      "outputs": [],
      "source": [
        "# 【72】\n",
        "# df2とdf4を列方向に連結し、df2に格納\n",
        "#print(ans[72]) #解答表示\n",
        "df2 = initialize2() #初期化\n",
        "\n",
        "\n",
        "\n"
      ]
    },
    {
      "cell_type": "code",
      "execution_count": null,
      "metadata": {
        "id": "k8R42oqNfZTA"
      },
      "outputs": [],
      "source": [
        "# 【73】\n",
        "# df2とdf4を行方向に連結し、df2に格納\n",
        "#print(ans[73]) #解答表示\n",
        "df2 = initialize2() #初期化\n",
        "\n",
        "\n",
        "\n"
      ]
    },
    {
      "cell_type": "markdown",
      "metadata": {
        "id": "7KUJVLkDfZTB"
      },
      "source": [
        "# 統計 (74 - 87)"
      ]
    },
    {
      "cell_type": "code",
      "execution_count": null,
      "metadata": {
        "id": "pOpQAeFJfZTB"
      },
      "outputs": [],
      "source": [
        "# 【74】\n",
        "# dfのage列の平均値を確認\n",
        "#print(ans[74]) #解答表示\n",
        "df = initialize1() #初期化\n",
        "\n",
        "\n",
        "\n"
      ]
    },
    {
      "cell_type": "code",
      "execution_count": null,
      "metadata": {
        "id": "osCoj5CRfZTC"
      },
      "outputs": [],
      "source": [
        "# 【75】\n",
        "# dfのage列の中央値を確認\n",
        "#print(ans[75]) #解答表示\n",
        "df = initialize1() #初期化\n",
        "\n",
        "\n",
        "\n"
      ]
    },
    {
      "cell_type": "code",
      "execution_count": null,
      "metadata": {
        "id": "Bd_oBzozfZTC"
      },
      "outputs": [],
      "source": [
        "# 【76】\n",
        "# ①df2の生徒ごとの合計点（行方向の合計）\n",
        "# ②df2の科目ごとの点数の総和（列方向の合計）\n",
        "#print(ans[76]) #解答表示\n",
        "df2 = initialize2() #初期化\n",
        "\n",
        "\n",
        "\n"
      ]
    },
    {
      "cell_type": "code",
      "execution_count": null,
      "metadata": {
        "id": "HBrBOsoNfZTE"
      },
      "outputs": [],
      "source": [
        "# 【77】\n",
        "# df2のEnglishで得点の最大値\n",
        "#print(ans[77]) #解答表示\n",
        "df2 = initialize2() #初期化\n",
        "\n",
        "\n",
        "\n"
      ]
    },
    {
      "cell_type": "code",
      "execution_count": null,
      "metadata": {
        "id": "foOXs2-MfZTG"
      },
      "outputs": [],
      "source": [
        "# 【78】\n",
        "# df2のEnglishで得点の最小値\n",
        "#print(ans[78]) #解答表示\n",
        "df2 = initialize2() #初期化\n",
        "\n",
        "\n",
        "\n"
      ]
    },
    {
      "cell_type": "code",
      "execution_count": null,
      "metadata": {
        "id": "FHV8TqFVfZTH"
      },
      "outputs": [],
      "source": [
        "# 【79】\n",
        "# df2においてclassでグルーピングし、クラスごとの科目の\n",
        "# 最大値、最小値、平均値を求める(name列は削除しておく)\n",
        "#print(ans[79]) #解答表示\n",
        "df2 = initialize2() #初期化\n",
        "\n",
        "\n",
        "\n"
      ]
    },
    {
      "cell_type": "code",
      "execution_count": null,
      "metadata": {
        "id": "NGPniNbHfZTH"
      },
      "outputs": [],
      "source": [
        "# 【80】\n",
        "# df2においてclassでグルーピングし、aggを用いて\n",
        "# 各科目の平均、最大値、最小値を求める\n",
        "# なお、各科目の平均、最大値、最小値には\n",
        "# 「***_mean」のようにsuffixを振ること\n",
        "#print(ans[80]) #解答表示\n",
        "df2 = initialize2() #初期化\n",
        "\n",
        "\n",
        "\n"
      ]
    },
    {
      "cell_type": "code",
      "execution_count": null,
      "metadata": {
        "id": "YyrHLxc1fZTI"
      },
      "outputs": [],
      "source": [
        "# 【81】\n",
        "# dfの各列間の(Pearson)相関係数を確認\n",
        "#print(ans[81]) #解答表示\n",
        "df = initialize1() #初期化\n",
        "\n",
        "\n",
        "\n"
      ]
    },
    {
      "cell_type": "code",
      "execution_count": null,
      "metadata": {
        "id": "l4W8YdCsfZTI"
      },
      "outputs": [],
      "source": [
        "# 【82】\n",
        "# scikit-learnを用いてdf2のEnglish、Mathematics、History列を標準化する\n",
        "# (from sklearn.preprocessing import StandardScalerをインポート)\n",
        "#print(ans[82]) #解答表示\n",
        "df2 = initialize2() #初期化\n",
        "\n",
        "\n",
        "\n"
      ]
    },
    {
      "cell_type": "code",
      "execution_count": null,
      "metadata": {
        "id": "Cn9RrjKmfZTK"
      },
      "outputs": [],
      "source": [
        "# 【83】\n",
        "# scikit-learnを用いてdf2のEnglish列を標準化する\n",
        "# (from sklearn.preprocessing import StandardScalerをインポート)\n",
        "#print(ans[83]) #解答表示\n",
        "df2 = initialize2() #初期化\n",
        "\n",
        "\n",
        "\n"
      ]
    },
    {
      "cell_type": "code",
      "execution_count": null,
      "metadata": {
        "id": "FFZuNhlbfZTK"
      },
      "outputs": [],
      "source": [
        "# 【84】\n",
        "# scikit-learnを用いてdf2のEnglish、Mathematics、History列を\n",
        "# Min-Maxスケーリングする\n",
        "# (from sklearn.preprocessing import MinMaxScalerをインポート)\n",
        "#print(ans[84]) #解答表示\n",
        "df2 = initialize2() #初期化\n",
        "\n",
        "\n",
        "\n"
      ]
    },
    {
      "cell_type": "code",
      "execution_count": null,
      "metadata": {
        "id": "7DwwPu0-fZTL"
      },
      "outputs": [],
      "source": [
        "# 【85】\n",
        "# dfのfare列の最大値、最小値の行名を取得\n",
        "#print(ans[85]) #解答表示\n",
        "df = initialize1() #初期化\n",
        "\n",
        "\n",
        "\n"
      ]
    },
    {
      "cell_type": "code",
      "execution_count": null,
      "metadata": {
        "id": "VxYB97yjfZTL"
      },
      "outputs": [],
      "source": [
        "# 【86】\n",
        "# dfのfare列の0、25、50、75、100パーセンタイルを取得\n",
        "#print(ans[86]) #解答表示\n",
        "df = initialize1() #初期化\n",
        "\n",
        "\n",
        "\n"
      ]
    },
    {
      "cell_type": "code",
      "execution_count": null,
      "metadata": {
        "id": "COUKx6ZnfZTL"
      },
      "outputs": [],
      "source": [
        "# 【87】\n",
        "# ①dfのage列の最頻値を取得\n",
        "# ②value_counts()にてage列の要素数を\n",
        "# 確認し、①の結果の妥当性を確認\n",
        "#print(ans[87]) #解答表示\n",
        "df = initialize1() #初期化\n",
        "\n",
        "\n",
        "\n"
      ]
    },
    {
      "cell_type": "markdown",
      "metadata": {
        "id": "dKhbd0xgfZTM"
      },
      "source": [
        "# ラベリング (88 - 89)"
      ]
    },
    {
      "cell_type": "code",
      "execution_count": null,
      "metadata": {
        "id": "Ppu7gGZ4fZTM"
      },
      "outputs": [],
      "source": [
        "# 【88】\n",
        "# dfのsex列をラベルエンコーディングし、\n",
        "# dfの先頭5行を表示\n",
        "# (from sklearn.preprocessing import LabelEncoderをインポート)\n",
        "#print(ans[88]) #解答表示\n",
        "df = initialize1() #初期化\n",
        "\n",
        "\n",
        "\n"
      ]
    },
    {
      "cell_type": "code",
      "execution_count": null,
      "metadata": {
        "id": "64k1HLp-fZTO"
      },
      "outputs": [],
      "source": [
        "# 【89】\n",
        "# dfのsex列をOne-hotエンコーディングし、\n",
        "# dfの先頭5行を表示\n",
        "#print(ans[89]) #解答表示\n",
        "df = initialize1() #初期化\n",
        "\n",
        "\n",
        "\n"
      ]
    },
    {
      "cell_type": "markdown",
      "metadata": {
        "id": "TSE_VeAEfZTP"
      },
      "source": [
        "# タイタニック号の生存者予測 (90 - 100)  \n",
        "これまで触れてきたタイタニック号の乗客データを使用して、乗客の生存有無を  \n",
        "予測してみます。  \n",
        "  \n",
        "※90～100については順番通りにやらないと上手く動作しません"
      ]
    },
    {
      "cell_type": "code",
      "execution_count": null,
      "metadata": {
        "id": "myGZkR-DfZTP"
      },
      "outputs": [],
      "source": [
        "# 【90】ラベルエンコーディング\n",
        "# df_copyのsexとembarked列をラベルエンコーディング\n",
        "# (from sklearn.preprocessing import LabelEncoderをインポート)\n",
        "# (df_copyはdfをコピーしたもの)\n",
        "#print(ans[90]) #解答表示\n",
        "df = initialize1() #初期化\n",
        "df_copy =df.clone()\n",
        "\n",
        "\n",
        "\n"
      ]
    },
    {
      "cell_type": "code",
      "execution_count": null,
      "metadata": {
        "id": "mI6dyBqSfZTQ"
      },
      "outputs": [],
      "source": [
        "# 【91】欠損値確認\n",
        "# df_copyの欠損値を確認\n",
        "#print(ans[91]) #解答表示\n",
        "\n",
        "\n",
        "\n"
      ]
    },
    {
      "cell_type": "code",
      "execution_count": null,
      "metadata": {
        "id": "wOlN8Ao-fZTQ"
      },
      "outputs": [],
      "source": [
        "# 【92】欠損値補完\n",
        "# df_copyのage、fare列の欠損値を各列の平均値で補完\n",
        "#print(ans[92]) #解答表示\n",
        "\n",
        "\n",
        "\n"
      ]
    },
    {
      "cell_type": "code",
      "execution_count": null,
      "metadata": {
        "id": "G-3XOC3WfZTQ"
      },
      "outputs": [],
      "source": [
        "# 【93】不要列の削除\n",
        "# df_copyの中で機械学習で使用しない不要な行を削除\n",
        "# (name, ticket, cabin, boat, body, home.destを削除)\n",
        "#print(ans[93]) #解答表示\n",
        "\n",
        "\n",
        "\n"
      ]
    },
    {
      "cell_type": "code",
      "execution_count": null,
      "metadata": {
        "id": "Nawi6yyvfZTR"
      },
      "outputs": [],
      "source": [
        "# 【94】ndarray形式への変換\n",
        "# ①df_copyのpclass、age、sex、fare、embarkedの列を抽出し、ndarray形式に変換\n",
        "# ②df_copyのsurvivedの列を抽出し、ndarray形式に変換\n",
        "# (①をfeatures、②をtargetという変数にそれぞれ格納)\n",
        "#print(ans[94]) #解答表示\n",
        "\n",
        "\n",
        "\n"
      ]
    },
    {
      "cell_type": "code",
      "execution_count": null,
      "metadata": {
        "id": "G4RqcbgKfZTR"
      },
      "outputs": [],
      "source": [
        "# 【95】学習データとテストデータに分割\n",
        "# 【94】で作成したfeatrues、targetを学習データとテストデータに分割\n",
        "# (from sklearn.model_selection import  train_test_splitをインポート)\n",
        "# ※分割時のパラメータは次を指定 test_size=0.3 random_state=0\n",
        "#print(ans[95]) #解答表示\n",
        "\n",
        "\n",
        "\n"
      ]
    },
    {
      "cell_type": "code",
      "execution_count": null,
      "metadata": {
        "id": "GC1ca3cvfZTS"
      },
      "outputs": [],
      "source": [
        "# 【96】学習の実行\n",
        "# 学習データ(features、target)を用いランダムフォレストにて学習を実行\n",
        "# (from sklearn.ensemble import RandomForestClassifierをインポート)\n",
        "# ※パラメータは次を指定 n_estimators=100 random_state=0\n",
        "#print(ans[96]) #解答表示\n",
        "\n",
        "\n",
        "\n"
      ]
    },
    {
      "cell_type": "code",
      "execution_count": null,
      "metadata": {
        "id": "y074HIpHfZTS"
      },
      "outputs": [],
      "source": [
        "# 【97】予測の実行\n",
        "# test_Xデータの乗客の生存を予測\n",
        "#print(ans[97]) #解答表示\n",
        "\n",
        "\n",
        "\n"
      ]
    },
    {
      "cell_type": "code",
      "execution_count": null,
      "metadata": {
        "id": "SDcqb35xfZTT"
      },
      "outputs": [],
      "source": [
        "# 【98】予測精度の確認\n",
        "# 予測結果がtest_y(生存有無の答え)とどれぐらい\n",
        "# 整合していたかを確認(評価指標はaccuracy)\n",
        "# (from sklearn.metrics import accuracy_scoreをインポート)\n",
        "#print(ans[98]) #解答表示\n",
        "\n",
        "\n",
        "\n"
      ]
    },
    {
      "cell_type": "code",
      "execution_count": null,
      "metadata": {
        "id": "Lg6gN0hjfZTU"
      },
      "outputs": [],
      "source": [
        "# 【99】重要度の確認\n",
        "# 学習における各列(特徴量)の\n",
        "# 重要度を表示\n",
        "#print(ans[99]) #解答表示\n",
        "\n",
        "\n",
        "\n"
      ]
    },
    {
      "cell_type": "code",
      "execution_count": null,
      "metadata": {
        "id": "zrarHDIsfZTX"
      },
      "outputs": [],
      "source": [
        "# 【100】予測結果のcsv出力\n",
        "# test_Xの予測結果をcsvでoutputフォルダに出力(ファイル名は「submission.csv」)\n",
        "# (headerは不要)\n",
        "#print(ans[100]) #解答表示\n",
        "\n",
        "\n",
        "\n"
      ]
    },
    {
      "cell_type": "markdown",
      "metadata": {
        "id": "ho4wzvk0fZTY"
      },
      "source": [
        "# ノックお疲れ様でした"
      ]
    }
  ],
  "metadata": {
    "kernelspec": {
      "display_name": "Python 3",
      "language": "python",
      "name": "python3"
    },
    "language_info": {
      "codemirror_mode": {
        "name": "ipython",
        "version": 3
      },
      "file_extension": ".py",
      "mimetype": "text/x-python",
      "name": "python",
      "nbconvert_exporter": "python",
      "pygments_lexer": "ipython3",
      "version": "3.7.6"
    },
    "colab": {
      "provenance": [],
      "include_colab_link": true
    },
    "gpuClass": "standard"
  },
  "nbformat": 4,
  "nbformat_minor": 0
}